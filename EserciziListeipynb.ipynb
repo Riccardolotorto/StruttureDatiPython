{
  "nbformat": 4,
  "nbformat_minor": 0,
  "metadata": {
    "colab": {
      "provenance": [],
      "collapsed_sections": [],
      "authorship_tag": "ABX9TyPlGvo4m0yMtJ0wlhgpgJ0H",
      "include_colab_link": true
    },
    "kernelspec": {
      "name": "python3",
      "display_name": "Python 3"
    },
    "language_info": {
      "name": "python"
    }
  },
  "cells": [
    {
      "cell_type": "markdown",
      "metadata": {
        "id": "view-in-github",
        "colab_type": "text"
      },
      "source": [
        "<a href=\"https://colab.research.google.com/github/Riccardolotorto/Python/blob/main/EserciziListeipynb.ipynb\" target=\"_parent\"><img src=\"https://colab.research.google.com/assets/colab-badge.svg\" alt=\"Open In Colab\"/></a>"
      ]
    },
    {
      "cell_type": "markdown",
      "source": [
        "esercizi sulle liste "
      ],
      "metadata": {
        "id": "bsL88bwCdMLo"
      }
    },
    {
      "cell_type": "markdown",
      "source": [
        "lista intera"
      ],
      "metadata": {
        "id": "fjq_g9q2eZMT"
      }
    },
    {
      "cell_type": "code",
      "execution_count": null,
      "metadata": {
        "colab": {
          "base_uri": "https://localhost:8080/"
        },
        "id": "EC6CtWzbdIT1",
        "outputId": "be9d26cc-bda3-46a3-e5fa-5caffdaa689c"
      },
      "outputs": [
        {
          "output_type": "stream",
          "name": "stdout",
          "text": [
            "[1, 2, 3, 4, 5, 6, 7, 8, 9]\n",
            "4\n",
            "5\n"
          ]
        }
      ],
      "source": [
        "lista = [1,2,3,4,5,6,7,8,9]\n",
        "print(lista)\n",
        "print(lista[3])\n",
        "print(lista[4])"
      ]
    },
    {
      "cell_type": "markdown",
      "source": [
        "lista stringhe"
      ],
      "metadata": {
        "id": "Fmn6Fx_2eclP"
      }
    },
    {
      "cell_type": "code",
      "source": [
        "stringa = [\"riccardo\",\"luca\",\"lorenzo\",\"leonardo\"]\n",
        "print(stringa[0])\n",
        "print(stringa[-1]) #stampo l'ultimo elemento della lista"
      ],
      "metadata": {
        "colab": {
          "base_uri": "https://localhost:8080/"
        },
        "id": "UNYr_9XleeVz",
        "outputId": "e0a9772e-9e00-4761-a8aa-88fa408e322f"
      },
      "execution_count": null,
      "outputs": [
        {
          "output_type": "stream",
          "name": "stdout",
          "text": [
            "riccardo\n",
            "leonardo\n"
          ]
        }
      ]
    },
    {
      "cell_type": "markdown",
      "source": [
        "lista dentro un'altra"
      ],
      "metadata": {
        "id": "oPT6HGvjfWxC"
      }
    },
    {
      "cell_type": "code",
      "source": [
        "lista_mista = [10, 45, \"francesco\", 45.98, [56,\"inter\",\"milan merda\"],12]\n",
        "print(lista_mista[1])\n",
        "print(lista_mista[4])\n",
        "print(lista_mista[4][1])"
      ],
      "metadata": {
        "colab": {
          "base_uri": "https://localhost:8080/"
        },
        "id": "jWTNQ7lQfWY4",
        "outputId": "c85b7749-5f77-446c-efa9-69870132195d"
      },
      "execution_count": null,
      "outputs": [
        {
          "output_type": "stream",
          "name": "stdout",
          "text": [
            "45\n",
            "[56, 'inter', 'milan merda']\n",
            "inter\n"
          ]
        }
      ]
    },
    {
      "cell_type": "markdown",
      "source": [
        "slicing"
      ],
      "metadata": {
        "id": "FexL7O4rgnya"
      }
    },
    {
      "cell_type": "code",
      "source": [
        "num = [5,6,7,8,9,10,11,12,13]\n",
        "print(num[2:6])  #stampo gli elementi dalla posizione 2 alla posizione 6 - 1 \n",
        "print(num[:7])  #stampo gli elementi dall'inzio fino alla posizione 7 - 1\n",
        "print(num[4:])  #stamo gli elementi dalla poszione 4 fino alla fine\n",
        "print(num[-5:-3])\n",
        "print(num[1:7:2]) #stampo gli elementi a due a due"
      ],
      "metadata": {
        "colab": {
          "base_uri": "https://localhost:8080/"
        },
        "id": "di1EaQh-gpNU",
        "outputId": "27132411-876d-42e2-e4e0-dada988f647f"
      },
      "execution_count": null,
      "outputs": [
        {
          "output_type": "stream",
          "name": "stdout",
          "text": [
            "[7, 8, 9, 10]\n",
            "[5, 6, 7, 8, 9, 10, 11]\n",
            "[9, 10, 11, 12, 13]\n",
            "[9, 10]\n",
            "[6, 8, 10]\n"
          ]
        }
      ]
    },
    {
      "cell_type": "markdown",
      "source": [
        "funzioni (len, max, min...)"
      ],
      "metadata": {
        "id": "sPycLLX2i_m0"
      }
    },
    {
      "cell_type": "code",
      "source": [
        "#trovare la lunghezza della lista: funzione len\n",
        "len(num)\n",
        "#trovare il max in una lista\n",
        "valoremax = max(num)\n",
        "print(\"max = \", valoremax)\n",
        "#trovare il min in una lista\n",
        "valoremin = min(num)\n",
        "print(valoremin)\n",
        "#trovare la somma degli elementi della lista\n",
        "totale = sum(num)\n",
        "print(totale)"
      ],
      "metadata": {
        "colab": {
          "base_uri": "https://localhost:8080/"
        },
        "id": "iY3m3C2kjJp0",
        "outputId": "0ccb523c-1c41-4536-d48d-bbcb7cbc84b7"
      },
      "execution_count": null,
      "outputs": [
        {
          "output_type": "stream",
          "name": "stdout",
          "text": [
            "max =  13\n",
            "5\n",
            "81\n"
          ]
        }
      ]
    },
    {
      "cell_type": "markdown",
      "source": [
        "concatenazione tra due liste"
      ],
      "metadata": {
        "id": "Wb0cbQS1kxC0"
      }
    },
    {
      "cell_type": "code",
      "source": [
        "lista2 = [1,4,5]\n",
        "lista3 = [7,8,9]\n",
        "lista2 + lista3"
      ],
      "metadata": {
        "colab": {
          "base_uri": "https://localhost:8080/"
        },
        "id": "4Q_Tg1lIk0PZ",
        "outputId": "03e060af-d972-404b-9246-fbfc265a60c4"
      },
      "execution_count": null,
      "outputs": [
        {
          "output_type": "execute_result",
          "data": {
            "text/plain": [
              "[1, 4, 5, 7, 8, 9]"
            ]
          },
          "metadata": {},
          "execution_count": 26
        }
      ]
    },
    {
      "cell_type": "markdown",
      "source": [
        "funzione a IN b (vedere se un elemento è presente in una lista o no"
      ],
      "metadata": {
        "id": "04V_qHsfmPAS"
      }
    },
    {
      "cell_type": "code",
      "source": [
        "squadre = [\"inter\", 56.78, \"roma\", 43, \"luca\"]\n",
        "\"inter\" in squadre\n"
      ],
      "metadata": {
        "colab": {
          "base_uri": "https://localhost:8080/"
        },
        "id": "dTB506LRmR-d",
        "outputId": "b813980f-9a1e-48fa-a29b-136572bba126"
      },
      "execution_count": null,
      "outputs": [
        {
          "output_type": "execute_result",
          "data": {
            "text/plain": [
              "True"
            ]
          },
          "metadata": {},
          "execution_count": 39
        }
      ]
    },
    {
      "cell_type": "markdown",
      "source": [
        "funzione max e min per liste di stringhe"
      ],
      "metadata": {
        "id": "QG9IwmQKnoRw"
      }
    },
    {
      "cell_type": "code",
      "source": [
        "a = [\"c\", \"b\", \"h\", \"v\", \"a\"]\n",
        "#trovare la lettera più avanti nell'alfabeto\n",
        "letteramax = max(a)\n",
        "print(letteramax)\n",
        "#trovare la lettera più indietro nell'alfabeto\n",
        "letteramin = min(a)\n",
        "print(letteramin)"
      ],
      "metadata": {
        "colab": {
          "base_uri": "https://localhost:8080/"
        },
        "id": "eVY6kXjLnrYA",
        "outputId": "af594f05-354a-41ca-a3ef-4e47afbb8d12"
      },
      "execution_count": null,
      "outputs": [
        {
          "output_type": "stream",
          "name": "stdout",
          "text": [
            "v\n",
            "a\n"
          ]
        }
      ]
    },
    {
      "cell_type": "markdown",
      "source": [
        "funzione list (trasforma una stringa in una lista dividendola in caratteri)"
      ],
      "metadata": {
        "id": "B_cToVtdo07t"
      }
    },
    {
      "cell_type": "code",
      "source": [
        "parola = \"ciao mondo\"\n",
        "print(list(parola))   #trasforma la stringa in una lista\n",
        "print(parola.split())   #divide la stringa in più parole rendendola una lista"
      ],
      "metadata": {
        "colab": {
          "base_uri": "https://localhost:8080/"
        },
        "id": "hWTtTp42o68b",
        "outputId": "4b144543-b77f-4e78-d884-994c67e38464"
      },
      "execution_count": null,
      "outputs": [
        {
          "output_type": "stream",
          "name": "stdout",
          "text": [
            "['c', 'i', 'a', 'o', ' ', 'm', 'o', 'n', 'd', 'o']\n",
            "['ciao', 'mondo']\n"
          ]
        }
      ]
    },
    {
      "cell_type": "markdown",
      "source": [
        "funzione append, extend"
      ],
      "metadata": {
        "id": "h4Jm2AUYqWvY"
      }
    },
    {
      "cell_type": "code",
      "source": [
        "lista4 = [4,5,6,8]\n",
        "lista4.append(10)  #aggiunge un elemento alla fine della lista considerandolo un unico elemento\n",
        "print(lista4)\n",
        "lista4.extend([12,13,14])   #aggiunge più elementi alla fine della lista considerando elementi diversi\n",
        "print(lista4)"
      ],
      "metadata": {
        "colab": {
          "base_uri": "https://localhost:8080/"
        },
        "id": "3OSElHXuqWaw",
        "outputId": "efc134a7-331b-4628-d503-0a71e4723336"
      },
      "execution_count": null,
      "outputs": [
        {
          "output_type": "stream",
          "name": "stdout",
          "text": [
            "[4, 5, 6, 8, 10]\n",
            "[4, 5, 6, 8, 10, 12, 13, 14]\n"
          ]
        }
      ]
    },
    {
      "cell_type": "markdown",
      "source": [
        "funzione insert, remove e reverse"
      ],
      "metadata": {
        "id": "FSHw1hC4r8W8"
      }
    },
    {
      "cell_type": "code",
      "source": [
        "lst = [3, \"ps5\", 5, \"forza inter\"]\n",
        "#inserire un elemento in una determinata posizione (pos, elemento)\n",
        "lst.insert(0, 4.78)\n",
        "print(lst)\n",
        "#rimuovere un elemento di una lista\n",
        "lst.remove(\"ps5\")\n",
        "print(lst)\n",
        "#ribalta l'ordine della lista\n",
        "lst.reverse()\n",
        "print(lst)"
      ],
      "metadata": {
        "colab": {
          "base_uri": "https://localhost:8080/"
        },
        "id": "5Q2BuGUbr-fK",
        "outputId": "01ab5eb9-68f6-460a-ade0-2bbe0597403f"
      },
      "execution_count": null,
      "outputs": [
        {
          "output_type": "stream",
          "name": "stdout",
          "text": [
            "[4.78, 3, 'ps5', 5, 'forza inter']\n",
            "[4.78, 3, 5, 'forza inter']\n",
            "['forza inter', 5, 3, 4.78]\n"
          ]
        }
      ]
    }
  ]
}