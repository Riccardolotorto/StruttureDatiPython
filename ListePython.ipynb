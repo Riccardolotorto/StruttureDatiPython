{
  "nbformat": 4,
  "nbformat_minor": 0,
  "metadata": {
    "colab": {
      "provenance": [],
      "collapsed_sections": [],
      "authorship_tag": "ABX9TyMx9Kq9tc2fS1VKIh6TIPRE",
      "include_colab_link": true
    },
    "kernelspec": {
      "name": "python3",
      "display_name": "Python 3"
    },
    "language_info": {
      "name": "python"
    }
  },
  "cells": [
    {
      "cell_type": "markdown",
      "metadata": {
        "id": "view-in-github",
        "colab_type": "text"
      },
      "source": [
        "<a href=\"https://colab.research.google.com/github/Riccardolotorto/Python/blob/main/ListePython.ipynb\" target=\"_parent\"><img src=\"https://colab.research.google.com/assets/colab-badge.svg\" alt=\"Open In Colab\"/></a>"
      ]
    },
    {
      "cell_type": "markdown",
      "source": [
        "liste"
      ],
      "metadata": {
        "id": "dJhvvQJl446R"
      }
    },
    {
      "cell_type": "code",
      "execution_count": null,
      "metadata": {
        "id": "mRfCtJrN2OPI"
      },
      "outputs": [],
      "source": [
        "a = []"
      ]
    },
    {
      "cell_type": "code",
      "source": [
        "b = [1,2,3,4,5,6,7,8,9,10]\n",
        "print(b)"
      ],
      "metadata": {
        "colab": {
          "base_uri": "https://localhost:8080/"
        },
        "id": "_KTJrctL5EU8",
        "outputId": "46d019ee-1315-4914-e32c-c6a0971f413e"
      },
      "execution_count": null,
      "outputs": [
        {
          "output_type": "stream",
          "name": "stdout",
          "text": [
            "[1, 2, 3, 4, 5, 6, 7, 8, 9, 10]\n"
          ]
        }
      ]
    },
    {
      "cell_type": "code",
      "source": [
        "type(b)"
      ],
      "metadata": {
        "colab": {
          "base_uri": "https://localhost:8080/"
        },
        "id": "avxKn_gh5cfL",
        "outputId": "41a58a0f-edc1-4a29-9f14-70a17f51f35a"
      },
      "execution_count": null,
      "outputs": [
        {
          "output_type": "execute_result",
          "data": {
            "text/plain": [
              "list"
            ]
          },
          "metadata": {},
          "execution_count": 2
        }
      ]
    },
    {
      "cell_type": "code",
      "source": [
        "lista = [12, \"pippo\",37.92,\"pluto\",[\"qui\",[8,12,24],\"qua\"],58]         #lista dentro un'altra lista\n",
        "print(lista[3])\n",
        "print(lista[4])\n",
        "print(lista[4][1])\n",
        "print(lista[4][1][2])"
      ],
      "metadata": {
        "colab": {
          "base_uri": "https://localhost:8080/"
        },
        "id": "NfllHALM59Ci",
        "outputId": "c6f80b0e-2895-4900-ab44-43147c50f6e0"
      },
      "execution_count": null,
      "outputs": [
        {
          "output_type": "stream",
          "name": "stdout",
          "text": [
            "pluto\n",
            "['qui', [8, 12, 24], 'qua']\n",
            "[8, 12, 24]\n",
            "24\n"
          ]
        }
      ]
    },
    {
      "cell_type": "code",
      "source": [
        "lista2 = [1,2,3,4,5,6,7,8,9,10]\n",
        "print(lista2[9])\n",
        "print(lista2[-1])       #trova l'ultimo elemento della lista\n",
        "print(lista2[-2])\n",
        "print(lista2[-10])"
      ],
      "metadata": {
        "colab": {
          "base_uri": "https://localhost:8080/"
        },
        "id": "wfPFw8Fz7joi",
        "outputId": "328e1f13-6dd1-4743-eda9-9cec1a4e8aaa"
      },
      "execution_count": null,
      "outputs": [
        {
          "output_type": "stream",
          "name": "stdout",
          "text": [
            "10\n",
            "10\n",
            "9\n",
            "1\n"
          ]
        }
      ]
    },
    {
      "cell_type": "code",
      "source": [
        "#slicing (spezzare)\n",
        "#lo slicing arriva fino al numero precedente\n",
        "num = [0,1,2,3,4,5,6,7,8,9]\n",
        "#visualizzazione degli elementi dal 3 al 6\n",
        "print(num[3:7])\n",
        "#visualizzazione degli ultimi 5 elementi\n",
        "print(num[5:])\n",
        "#visualizzazione dei primi 5 elementi\n",
        "print(num[:5])\n",
        "print(num[-3:-1])  #visualizzazione del penultimo e terzultimo numero\n",
        "print(num[3:9:2])  #visualizzazione a due a due (l'ultimo :2)\n",
        "print(num[::2])  #visualizzazione a due a due a partire dallo 0"
      ],
      "metadata": {
        "colab": {
          "base_uri": "https://localhost:8080/"
        },
        "id": "lM9rFdDh857y",
        "outputId": "28171dd4-145d-4a39-9072-41a12e110031"
      },
      "execution_count": null,
      "outputs": [
        {
          "output_type": "stream",
          "name": "stdout",
          "text": [
            "[3, 4, 5, 6]\n",
            "[5, 6, 7, 8, 9]\n",
            "[0, 1, 2, 3, 4]\n",
            "[7, 8]\n",
            "[3, 5, 7]\n",
            "[0, 2, 4, 6, 8]\n"
          ]
        }
      ]
    },
    {
      "cell_type": "code",
      "source": [
        "#Built in List Functions  (funzioni per le liste già costruite)\n",
        "\n",
        "#funzione a IN b\n",
        "19 in num"
      ],
      "metadata": {
        "colab": {
          "base_uri": "https://localhost:8080/"
        },
        "id": "3IrEb-joAA5z",
        "outputId": "90d8bce4-2af7-401b-d6d2-4332cdc4e714"
      },
      "execution_count": null,
      "outputs": [
        {
          "output_type": "execute_result",
          "data": {
            "text/plain": [
              "False"
            ]
          },
          "metadata": {},
          "execution_count": 31
        }
      ]
    },
    {
      "cell_type": "code",
      "source": [
        "stringa = \"la mamma è bella\"\n",
        "print(stringa)\n",
        "lista3 = list(stringa)   #funzione list: trasforma la stringa in una lista dividento i caratteri\n",
        "print(lista3)"
      ],
      "metadata": {
        "colab": {
          "base_uri": "https://localhost:8080/"
        },
        "id": "G92DDBXGA3rC",
        "outputId": "705cf00c-9a75-447d-bca3-774a7fffd786"
      },
      "execution_count": null,
      "outputs": [
        {
          "output_type": "stream",
          "name": "stdout",
          "text": [
            "la mamma è bella\n",
            "['l', 'a', ' ', 'm', 'a', 'm', 'm', 'a', ' ', 'è', ' ', 'b', 'e', 'l', 'l', 'a']\n"
          ]
        }
      ]
    },
    {
      "cell_type": "code",
      "source": [
        "#funzione append: aggiunge un elemento alla fine della lista (riconosce un unico elemento)\n",
        "lista4 = [1,2,3]\n",
        "lista4.append(12)\n",
        "print(lista4)\n",
        "lista4.append([10,19])\n",
        "print(lista4)"
      ],
      "metadata": {
        "colab": {
          "base_uri": "https://localhost:8080/"
        },
        "id": "1lqbWK_aBaxS",
        "outputId": "73b1bbdb-0571-46e6-8d30-dcb1ca1c0736"
      },
      "execution_count": null,
      "outputs": [
        {
          "output_type": "stream",
          "name": "stdout",
          "text": [
            "[1, 2, 3, 12]\n",
            "[1, 2, 3, 12, [10, 19]]\n"
          ]
        }
      ]
    },
    {
      "cell_type": "code",
      "source": [
        "#funzione extend: estende la lista con dei valori inseriti (riconosce un elemento per ogni elemento inserito)\n",
        "lista4.extend([10,19])\n",
        "print(lista4)"
      ],
      "metadata": {
        "colab": {
          "base_uri": "https://localhost:8080/"
        },
        "id": "XQt41TapByAS",
        "outputId": "44f42225-5f68-4ff3-a430-cdc4523656ad"
      },
      "execution_count": null,
      "outputs": [
        {
          "output_type": "stream",
          "name": "stdout",
          "text": [
            "[1, 2, 3, 12, [10, 19], 10, 19]\n"
          ]
        }
      ]
    },
    {
      "cell_type": "markdown",
      "source": [
        "caricare in una lista i numeri 8 17 -5 4 76 9 2"
      ],
      "metadata": {
        "id": "4PBGAJCkrG3F"
      }
    },
    {
      "cell_type": "code",
      "source": [
        "lista5 = [8, 17, -5, 4, 76, 9, 2]\n",
        "print(lista5)\n",
        "#visualizzazione primo elemento\n",
        "print(lista5[0])\n",
        "#visualizzazione ultimo elemento\n",
        "print(lista5[-1])\n",
        "#ultimo elemento con il metodo lunghezza lista\n",
        "print(lista5[len(lista5)-1])\n"
      ],
      "metadata": {
        "colab": {
          "base_uri": "https://localhost:8080/"
        },
        "id": "-Csj9HJbrPrs",
        "outputId": "bee67ffe-c5db-42a0-febe-74b578f30577"
      },
      "execution_count": null,
      "outputs": [
        {
          "output_type": "stream",
          "name": "stdout",
          "text": [
            "[8, 17, -5, 4, 76, 9, 2]\n",
            "8\n",
            "2\n",
            "2\n"
          ]
        }
      ]
    },
    {
      "cell_type": "code",
      "source": [
        "#aggiungere i valori 7 8 4 9 alla lista\n",
        "lista5.extend([7, 8, 4, 9])   \n",
        "print(lista5)"
      ],
      "metadata": {
        "colab": {
          "base_uri": "https://localhost:8080/"
        },
        "id": "2goUBOzUsyBF",
        "outputId": "5991714c-a33a-4262-c006-6d389e022e7c"
      },
      "execution_count": null,
      "outputs": [
        {
          "output_type": "stream",
          "name": "stdout",
          "text": [
            "[8, 17, -5, 4, 76, 9, 2, 7, 8, 4, 9, 7, 8, 4, 9, 7, 8, 4, 9]\n"
          ]
        }
      ]
    },
    {
      "cell_type": "code",
      "source": [
        "#ordinare una lista in modo crescente\n",
        "lista5.sort()\n",
        "print(lista5)"
      ],
      "metadata": {
        "colab": {
          "base_uri": "https://localhost:8080/"
        },
        "id": "zm1nfUPMtcK0",
        "outputId": "896ed21a-3a4d-490e-9797-34fa3072e10c"
      },
      "execution_count": null,
      "outputs": [
        {
          "output_type": "stream",
          "name": "stdout",
          "text": [
            "[-5, 2, 4, 8, 9, 17, 76]\n"
          ]
        }
      ]
    },
    {
      "cell_type": "code",
      "source": [
        "#rimuovere un elemento di una lista     lista5.remove(-5)\n",
        "\n",
        "#rimuovere gli elementi uguali in una lista\n",
        "valoredarimuovere = 8\n",
        "\n",
        "try:\n",
        "    while True:\n",
        "       lista5.remove(valoredarimuovere)\n",
        "except ValueError:\n",
        "    pass\n",
        "\n",
        "print(lista5)"
      ],
      "metadata": {
        "colab": {
          "base_uri": "https://localhost:8080/"
        },
        "id": "1zoMng9suarn",
        "outputId": "67e07060-f73b-40a5-bddb-b60e2879787e"
      },
      "execution_count": null,
      "outputs": [
        {
          "output_type": "stream",
          "name": "stdout",
          "text": [
            "[-5, 2, 4, 4, 4, 4, 7, 7, 7, 9, 9, 9, 9, 17, 76]\n"
          ]
        }
      ]
    },
    {
      "cell_type": "code",
      "source": [
        "#metodo più veloce per rimuovere gli elementi uguali in una lista\n",
        "while 9 in lista5:\n",
        "  lista5.remove(9)\n",
        "print(lista5)"
      ],
      "metadata": {
        "colab": {
          "base_uri": "https://localhost:8080/"
        },
        "id": "Uhtb-E0JxPgs",
        "outputId": "7f9f2e30-8807-4393-a354-e24ec0806a50"
      },
      "execution_count": null,
      "outputs": [
        {
          "output_type": "stream",
          "name": "stdout",
          "text": [
            "[-5, 2, 4, 4, 4, 4, 7, 7, 7, 17, 76]\n"
          ]
        }
      ]
    },
    {
      "cell_type": "code",
      "source": [
        "#altro metodo (con la funzione filter)\n",
        "lista5 = list(filter((7).__ne__,lista5))  #ne = not equal\n",
        "print(lista5)"
      ],
      "metadata": {
        "colab": {
          "base_uri": "https://localhost:8080/"
        },
        "id": "2gEwjPbLxc5Q",
        "outputId": "7f44f97f-09d8-40d1-e6c2-5bddd9171424"
      },
      "execution_count": null,
      "outputs": [
        {
          "output_type": "stream",
          "name": "stdout",
          "text": [
            "[-5, 2, 4, 4, 4, 4, 17, 76]\n"
          ]
        }
      ]
    },
    {
      "cell_type": "code",
      "source": [
        "#contare il numero di volte che compare il numero - 5 in una lista\n",
        "lista5.count(-5)"
      ],
      "metadata": {
        "colab": {
          "base_uri": "https://localhost:8080/"
        },
        "id": "c6Xg_vq42kIu",
        "outputId": "dd47ff19-d361-48fe-f34e-b8bbaf7cc5eb"
      },
      "execution_count": null,
      "outputs": [
        {
          "output_type": "execute_result",
          "data": {
            "text/plain": [
              "1"
            ]
          },
          "metadata": {},
          "execution_count": 80
        }
      ]
    },
    {
      "cell_type": "code",
      "source": [
        "#trovare l'indice di un elemento\n",
        "print(lista5)\n",
        "#cercare l'indice del numero 4\n",
        "lista5.index(4)"
      ],
      "metadata": {
        "colab": {
          "base_uri": "https://localhost:8080/"
        },
        "id": "hESPziMS3XIk",
        "outputId": "676e35d9-2835-4777-cb6d-03fa4b45b68a"
      },
      "execution_count": null,
      "outputs": [
        {
          "output_type": "stream",
          "name": "stdout",
          "text": [
            "[-5, 2, 4, 4, 4, 4, 17, 76]\n"
          ]
        },
        {
          "output_type": "execute_result",
          "data": {
            "text/plain": [
              "2"
            ]
          },
          "metadata": {},
          "execution_count": 82
        }
      ]
    },
    {
      "cell_type": "code",
      "source": [
        "#inserire un elemento in una lista\n",
        "print(lista5)\n",
        "#inserire il valore 0 prima del numero 17\n",
        "lista5.insert(lista5.index(17), 0)\n",
        "print(lista5)"
      ],
      "metadata": {
        "colab": {
          "base_uri": "https://localhost:8080/"
        },
        "id": "fso-qugT3sLz",
        "outputId": "9d997a55-05ff-4191-9b0f-60c444f506c7"
      },
      "execution_count": null,
      "outputs": [
        {
          "output_type": "stream",
          "name": "stdout",
          "text": [
            "[-5, 2, 4, 8, 9, 0, 17, 76]\n",
            "[-5, 2, 4, 8, 9, 0, 0, 17, 76]\n"
          ]
        }
      ]
    },
    {
      "cell_type": "code",
      "source": [
        "lista6 = [66, 7, 8, 9, 12, 13, 14]\n",
        "#trova l'ultimo elemento della lista e lo rimuove dalla lista se le parentesi sono vuote, altrimenti elimina l'elemento corrispondente dell'index inserito\n",
        "lista6.pop()\n",
        "print(lista6)"
      ],
      "metadata": {
        "colab": {
          "base_uri": "https://localhost:8080/"
        },
        "id": "MrjLkdQN44CM",
        "outputId": "0d8d7cbb-5960-4ac7-bd0e-f3ed7d6bd304"
      },
      "execution_count": null,
      "outputs": [
        {
          "output_type": "stream",
          "name": "stdout",
          "text": [
            "[66, 7, 8, 9, 12, 13]\n"
          ]
        }
      ]
    },
    {
      "cell_type": "code",
      "source": [
        "#eliminare un elemento usano la posizione\n",
        "del lista6[0]\n",
        "print(lista6)"
      ],
      "metadata": {
        "colab": {
          "base_uri": "https://localhost:8080/"
        },
        "id": "E1S9nwYO56ec",
        "outputId": "226f994f-600e-4afe-f6e5-738cdc59fea2"
      },
      "execution_count": null,
      "outputs": [
        {
          "output_type": "stream",
          "name": "stdout",
          "text": [
            "[7, 8, 9, 12, 13]\n"
          ]
        }
      ]
    },
    {
      "cell_type": "code",
      "source": [
        "lista7 = [5, 7, 9, 2]\n",
        "lista8 = lista7\n",
        "print(lista7)\n",
        "print(lista8)"
      ],
      "metadata": {
        "colab": {
          "base_uri": "https://localhost:8080/"
        },
        "id": "5ILG_BUi6LQs",
        "outputId": "b2a47c65-7d33-4c56-ad03-78a278b7cb91"
      },
      "execution_count": null,
      "outputs": [
        {
          "output_type": "stream",
          "name": "stdout",
          "text": [
            "[5, 7, 9, 2]\n",
            "[5, 7, 9, 2]\n"
          ]
        }
      ]
    },
    {
      "cell_type": "code",
      "source": [
        "lista7.pop()\n",
        "print(lista7)\n",
        "print(lista8)"
      ],
      "metadata": {
        "colab": {
          "base_uri": "https://localhost:8080/"
        },
        "id": "MGgJJpkx6Zbd",
        "outputId": "3d4aa9d2-f315-47e0-ba16-9959d1d88ec8"
      },
      "execution_count": null,
      "outputs": [
        {
          "output_type": "stream",
          "name": "stdout",
          "text": [
            "[5, 7, 9]\n",
            "[5, 7, 9]\n"
          ]
        }
      ]
    },
    {
      "cell_type": "markdown",
      "source": [
        "1. inizializzare una lista con i seguenti numeri: 8 18 27 -8 51 40 -9 -76\n",
        "2. aggiungere in fondo alla lista i valori: 7 4 95\n",
        "3. aggiungere all'inizio della lista i valori: 7 4 95\n",
        "4. visualizzare il numero di elementi della lista \n",
        "5. aggiungere in 4 posizione il valore 100\n",
        "6. eliminare il terzultimo elemento della lista\n",
        "7. visualizzare il valore massimo e minimo della lista\n",
        "8. calcolare la somma degli elementi della lista\n",
        "9. calcolare la media degli elementi della lista\n",
        "10. rimuovere dalla lista il numero 7 \n",
        "11. ordinare la lista in modo decrescente \n",
        "12. eliminare dalla lista il numero più alto e il numero più basso\n",
        "13. visualizzare gli elementi di posto pari\n",
        "14. visualizzare gli elementi di posto dispari\n",
        "15. visualizzare i primi 5 elementi della lista\n",
        "16. visualizzare gli ultimi 5 elementi \n",
        "17. visualizzare i 5 elementi centrali \n",
        "18. rimuovere i duplicati presenti nella lista"
      ],
      "metadata": {
        "id": "k7ey1CLB7nMV"
      }
    },
    {
      "cell_type": "code",
      "source": [
        "lista9 = [8, 18, 27, -8, 51, 40, -9, -76]\n",
        "\n",
        "lista9.extend([7, 4, 95])\n",
        "print(lista9)\n",
        "\n",
        "lista9.insert(0,7)\n",
        "lista9.insert(1, 4)\n",
        "lista9.insert(2, 95)\n",
        "print(lista9)\n",
        "\n",
        "print(len(lista9))\n",
        "\n",
        "lista9.insert(4, 100)\n",
        "print(lista9)\n",
        "\n",
        "del lista9[-3]\n",
        "print(lista9)\n",
        "\n",
        "valoremax = max(lista9)\n",
        "valoremin = min(lista9)\n",
        "print(valoremax)\n",
        "print(valoremin)\n",
        "\n",
        "somma = sum(lista9)\n",
        "print(somma)\n",
        "\n",
        "from statistics import mean\n",
        "print(mean(lista9))\n",
        "\n",
        "lista9.remove(7)\n",
        "print(lista9)\n",
        "\n",
        "lista9.sort(reverse = True)\n",
        "print(lista9)\n",
        "\n",
        "lista9.remove(max(lista9))\n",
        "lista9.remove(min(lista9))\n",
        "print(lista9)\n",
        "\n",
        "print(lista9[::2])\n",
        "\n",
        "print(lista9[1::2])\n",
        "\n",
        "print(lista9[:5])\n",
        "\n",
        "print(lista9[-5:])\n",
        "\n",
        "print(lista9[3:8])\n",
        "\n",
        "from collections import OrderedDict\n",
        "list(OrderedDict.fromkeys(lista9))"
      ],
      "metadata": {
        "colab": {
          "base_uri": "https://localhost:8080/"
        },
        "id": "vnbBgDTz9ElN",
        "outputId": "eba85e83-4418-4978-f75d-fb3ce4c8ad51"
      },
      "execution_count": null,
      "outputs": [
        {
          "output_type": "stream",
          "name": "stdout",
          "text": [
            "[8, 18, 27, -8, 51, 40, -9, -76, 7, 4, 95]\n",
            "[7, 4, 95, 8, 18, 27, -8, 51, 40, -9, -76, 7, 4, 95]\n",
            "14\n",
            "[7, 4, 95, 8, 100, 18, 27, -8, 51, 40, -9, -76, 7, 4, 95]\n",
            "[7, 4, 95, 8, 100, 18, 27, -8, 51, 40, -9, -76, 4, 95]\n",
            "100\n",
            "-76\n",
            "356\n",
            "25.428571428571427\n",
            "[4, 95, 8, 100, 18, 27, -8, 51, 40, -9, -76, 4, 95]\n",
            "[100, 95, 95, 51, 40, 27, 18, 8, 4, 4, -8, -9, -76]\n",
            "[95, 95, 51, 40, 27, 18, 8, 4, 4, -8, -9]\n",
            "[95, 51, 27, 8, 4, -9]\n",
            "[95, 40, 18, 4, -8]\n",
            "[95, 95, 51, 40, 27]\n",
            "[8, 4, 4, -8, -9]\n",
            "[40, 27, 18, 8, 4]\n"
          ]
        },
        {
          "output_type": "execute_result",
          "data": {
            "text/plain": [
              "[95, 51, 40, 27, 18, 8, 4, -8, -9]"
            ]
          },
          "metadata": {},
          "execution_count": 11
        }
      ]
    }
  ]
}