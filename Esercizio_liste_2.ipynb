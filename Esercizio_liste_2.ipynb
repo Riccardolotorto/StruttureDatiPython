{
  "nbformat": 4,
  "nbformat_minor": 0,
  "metadata": {
    "colab": {
      "provenance": [],
      "collapsed_sections": [],
      "include_colab_link": true
    },
    "kernelspec": {
      "name": "python3",
      "display_name": "Python 3"
    },
    "language_info": {
      "name": "python"
    }
  },
  "cells": [
    {
      "cell_type": "markdown",
      "metadata": {
        "id": "view-in-github",
        "colab_type": "text"
      },
      "source": [
        "<a href=\"https://colab.research.google.com/github/Riccardolotorto/Python/blob/main/LOTORTO_RICCARDO_Esercizio_liste_2.ipynb\" target=\"_parent\"><img src=\"https://colab.research.google.com/assets/colab-badge.svg\" alt=\"Open In Colab\"/></a>"
      ]
    },
    {
      "cell_type": "markdown",
      "source": [
        "##Esercizo in preparazione alla verifica"
      ],
      "metadata": {
        "id": "SDexScMGbRcj"
      }
    },
    {
      "cell_type": "markdown",
      "source": [
        "Caricare in una o più strutture dati adeguate i dati relativi alle squadre di calcio che hanno giocato la decima giornata del campionato. In particolare si è interessati a memorizzare le squadre che hanno giocato in casa, quelle che hanno giocato fuori casa, i gol fatti in ogni partita dalla squadra di casa e da quella ospite. Scrivere poi le istruzioni per avere le informazioni richieste nei vari esercizi"
      ],
      "metadata": {
        "id": "uOtyj2sHTbcS"
      }
    },
    {
      "cell_type": "code",
      "execution_count": null,
      "metadata": {
        "id": "7afOYm6zTYAD"
      },
      "outputs": [],
      "source": [
        "squadreCasa = [\"Empoli\", \"Torino\", \"Atalanta\", \"Inter\", \"Lazio\", \"Spezia\", \"Napoli\", \"Verona\", \"Sampdoria\", \"Lecce\"]\n",
        "squadreOspiti = [\"Monza\", \"Juventus\", \"Sassuolo\", \"Salernitana\", \"Udinese\", \"Cremonese\", \"Bologna\", \"Milan\", \"Roma\", \"Fiorentina\"]\n",
        "golfattiCasa = [1, 0, 2, 2, 0, 2, 3, 1, 0, 0]\n",
        "golfattiOspiti = [0, 1, 1, 0, 0, 2, 2, 2, 0, 0]"
      ]
    },
    {
      "cell_type": "markdown",
      "source": [
        "1. visualizzare le partite che si sono giocate. Visualizzare i risultati nel formato **squadra1 - squadra2 : golSquadra1 - golSquadra2**, una partita sotto l'altra"
      ],
      "metadata": {
        "id": "anLe5NH_UPFX"
      }
    },
    {
      "cell_type": "code",
      "source": [
        "for i in range(len(squadreCasa)):\n",
        "  print(squadreCasa[i], \"-\", squadreOspiti[i], \":\", golfattiCasa[i], \"-\", golfattiOspiti[i])"
      ],
      "metadata": {
        "id": "OEIRK8frUmDH",
        "colab": {
          "base_uri": "https://localhost:8080/"
        },
        "outputId": "ace993c0-a364-426d-de1f-9b668ff57bc8"
      },
      "execution_count": null,
      "outputs": [
        {
          "output_type": "stream",
          "name": "stdout",
          "text": [
            "Empoli - Monza : 1 - 0\n",
            "Torino - Juventus : 0 - 1\n",
            "Atalanta - Sassuolo : 2 - 1\n",
            "Inter - Salernitana : 2 - 0\n",
            "Lazio - Udinese : 0 - 0\n",
            "Spezia - Cremonese : 2 - 2\n",
            "Napoli - Bologna : 3 - 2\n",
            "Verona - Milan : 1 - 2\n",
            "Sampdoria - Roma : 0 - 0\n",
            "Lecce - Fiorentina : 0 - 0\n"
          ]
        }
      ]
    },
    {
      "cell_type": "markdown",
      "source": [
        "realizzare la stampo con diversi criteri (tutto in ordine)"
      ],
      "metadata": {
        "id": "-VOqWBOljnrP"
      }
    },
    {
      "cell_type": "code",
      "source": [
        "#nelle parentesi graffe ci sono i numeri di caratteri che occupano le stringhe \n",
        "for i in range(len(squadreCasa)):\n",
        "  print(\"{:11}{:3}{:12}{:3}{:1}{:1}{:1}\".format(squadreCasa[i], \"-\", squadreOspiti[i], \":\", golfattiCasa[i], \"-\", golfattiOspiti[i]))"
      ],
      "metadata": {
        "colab": {
          "base_uri": "https://localhost:8080/"
        },
        "id": "YbWaq01PjuUZ",
        "outputId": "61e03ef2-e17f-4920-9d26-e5568f380697"
      },
      "execution_count": null,
      "outputs": [
        {
          "output_type": "stream",
          "name": "stdout",
          "text": [
            "Empoli     -  Monza       :  1-0\n",
            "Torino     -  Juventus    :  0-1\n",
            "Atalanta   -  Sassuolo    :  2-1\n",
            "Inter      -  Salernitana :  2-0\n",
            "Lazio      -  Udinese     :  0-0\n",
            "Spezia     -  Cremonese   :  2-2\n",
            "Napoli     -  Bologna     :  3-2\n",
            "Verona     -  Milan       :  1-2\n",
            "Sampdoria  -  Roma        :  0-0\n",
            "Lecce      -  Fiorentina  :  0-0\n"
          ]
        }
      ]
    },
    {
      "cell_type": "markdown",
      "source": [
        "2. visualizzare l'elenco in ordine alfabetico delle squadre che hanno vinto. Caricare i nomi in una nuova lista chiamata **squadreV**"
      ],
      "metadata": {
        "id": "BNb9qu-cVJ2d"
      }
    },
    {
      "cell_type": "code",
      "source": [
        "squadreV = []\n",
        "for indice in range(len(golfattiCasa)):\n",
        "  if golfattiCasa[indice] > golfattiOspiti[indice]:\n",
        "    squadreV.append(squadreCasa[indice])\n",
        "  elif golfattiOspiti[indice] > golfattiCasa[indice]:\n",
        "    squadreV.append(squadreOspiti[indice])\n",
        "print(squadreV)\n",
        "squadreV.sort()\n",
        "print(squadreV)"
      ],
      "metadata": {
        "id": "NWvhhclUVPKy",
        "colab": {
          "base_uri": "https://localhost:8080/"
        },
        "outputId": "32db1344-b8f2-4da0-a8d7-26b33559e7f3"
      },
      "execution_count": null,
      "outputs": [
        {
          "output_type": "stream",
          "name": "stdout",
          "text": [
            "['Empoli', 'Juventus', 'Atalanta', 'Inter', 'Napoli', 'Milan']\n",
            "['Atalanta', 'Empoli', 'Inter', 'Juventus', 'Milan', 'Napoli']\n"
          ]
        }
      ]
    },
    {
      "cell_type": "markdown",
      "source": [
        "3. visualizzare l'elenco in ordine alfabetico delle squadre che hanno perso. Caricare i nomi in una nuova lista chiamata **squadreP**"
      ],
      "metadata": {
        "id": "ZpSNMANmVPhh"
      }
    },
    {
      "cell_type": "code",
      "source": [
        "squadreP = []\n",
        "for indice in range(len(golfattiCasa)):\n",
        "  if golfattiCasa[indice] < golfattiOspiti[indice]:\n",
        "    squadreP.append(squadreCasa[indice])\n",
        "  elif golfattiOspiti[indice] < golfattiCasa[indice]:\n",
        "    squadreP.append(squadreOspiti[indice])\n",
        "print(squadreP)\n",
        "squadreP.sort()\n",
        "print(squadreP)"
      ],
      "metadata": {
        "id": "vH6wz6ZhViJg",
        "colab": {
          "base_uri": "https://localhost:8080/"
        },
        "outputId": "1f5d5927-b6d1-44f3-fc49-a345580109d9"
      },
      "execution_count": null,
      "outputs": [
        {
          "output_type": "stream",
          "name": "stdout",
          "text": [
            "['Monza', 'Torino', 'Sassuolo', 'Salernitana', 'Bologna', 'Verona']\n",
            "['Bologna', 'Monza', 'Salernitana', 'Sassuolo', 'Torino', 'Verona']\n"
          ]
        }
      ]
    },
    {
      "cell_type": "markdown",
      "source": [
        "4. utilizzare i dati presenti nelle due liste precedentemente create per permettere all'utente di sapere se una squadra ha pareggiato o meno. L'utente inserisce il nome della squadra e il programma risponde visualizzando la stringa **'la squadra \\<nomeSquadraInserita\\> ha pareggiato'** o **'la squadra \\<nomeSquadraInserita\\> non pareggiato'**"
      ],
      "metadata": {
        "id": "CztpE9kyVilA"
      }
    },
    {
      "cell_type": "code",
      "source": [
        "squadra_inserita = input(\"inserire una squadra: \")\n",
        "if squadra_inserita in squadreV or squadra_inserita in squadreP:\n",
        "  print(\"la squadra\", squadra_inserita, \"non ha pareggiato\")\n",
        "else:\n",
        "  print(\"la squadra\", squadra_inserita, \"ha pareggiato\")"
      ],
      "metadata": {
        "id": "3VzlSMzAV8K6",
        "colab": {
          "base_uri": "https://localhost:8080/"
        },
        "outputId": "443e64f7-3c7a-4778-ede2-c4f54fda0ada"
      },
      "execution_count": null,
      "outputs": [
        {
          "output_type": "stream",
          "name": "stdout",
          "text": [
            "inserire una squadra: Inter\n",
            "la squadra Inter non ha pareggiato\n"
          ]
        }
      ]
    },
    {
      "cell_type": "markdown",
      "source": [
        "5. visualizzare il numero di partite in cui c'è stato un pareggio"
      ],
      "metadata": {
        "id": "8wpASWr6V8xA"
      }
    },
    {
      "cell_type": "code",
      "source": [
        "contoPareggi = 0\n",
        "for pareggio in range(len(golfattiCasa)):\n",
        "  if golfattiCasa[pareggio] == golfattiOspiti[pareggio]:\n",
        "      contoPareggi += 1\n",
        "print(contoPareggi)"
      ],
      "metadata": {
        "id": "WP-YdTifWs8G",
        "colab": {
          "base_uri": "https://localhost:8080/"
        },
        "outputId": "d25b9516-d7a8-4c32-ec73-a73008b09ba3"
      },
      "execution_count": null,
      "outputs": [
        {
          "output_type": "stream",
          "name": "stdout",
          "text": [
            "4\n"
          ]
        }
      ]
    },
    {
      "cell_type": "code",
      "source": [
        "#metodo come dice il prof\n",
        "print(round((len(squadreCasa) + len(squadreOspiti) - len(squadreP) - len(squadreV)) / 2 ))\n"
      ],
      "metadata": {
        "colab": {
          "base_uri": "https://localhost:8080/"
        },
        "id": "klkT3VG1mojY",
        "outputId": "8ddfeaaf-45f3-46aa-b10f-2bac18444987"
      },
      "execution_count": null,
      "outputs": [
        {
          "output_type": "stream",
          "name": "stdout",
          "text": [
            "4\n"
          ]
        }
      ]
    },
    {
      "cell_type": "markdown",
      "source": [
        "Caricare in altre struttura dati la classifica **prima** della decima giornata, ordinata in ordine decrescente a partire dalla squadra con più punti. Chiamare la struttura dati **classifica09**"
      ],
      "metadata": {
        "id": "QV2p7qfTWtY8"
      }
    },
    {
      "cell_type": "code",
      "source": [
        "classifica09 = [23, 21, 20, 20, 20, 19, 15, 13, 12, 11, 10, 10, 9, 8, 8, 7, 7, 5, 3, 3]\n",
        "squadre09 = [\"Napoli\", \"Atalanta\", \"Lazio\", \"Udinese\", \"Milan\", \"Roma\", \"Inter\", \"Juventus\", \"Sassuolo\", \"Torino\", \"Salernitana\", \"Monza\", \"Fiorentina\", \"Empoli\", \"Spezia\", \"Lecce\", \"Bologna\", \"Hellas Verona\", \"Cremonese\", \"Samdoria\"]"
      ],
      "metadata": {
        "id": "0t0dJa8lW3d4"
      },
      "execution_count": null,
      "outputs": []
    },
    {
      "cell_type": "markdown",
      "source": [
        "6. visualizzare la classifica. Visualizzare il nome della squadra e i suoi punti. Visualizzare poi le prime 6 squadre che, se il campionato finisse oggi, si qualificherebbero per accedere alle competizioni europee"
      ],
      "metadata": {
        "id": "7ZdhHj6GW31P"
      }
    },
    {
      "cell_type": "code",
      "source": [
        "for h in range(len(classifica09)):\n",
        "  print(\"{:15}{:3}{:1}\".format(squadre09[h], \"-\", classifica09[h]))\n",
        "print(squadre09[:6])"
      ],
      "metadata": {
        "id": "MlNaWI6mXIYe",
        "colab": {
          "base_uri": "https://localhost:8080/"
        },
        "outputId": "fcc9b11e-f542-4f2a-a19f-4695fa3e01d4"
      },
      "execution_count": null,
      "outputs": [
        {
          "output_type": "stream",
          "name": "stdout",
          "text": [
            "Napoli         -  23\n",
            "Atalanta       -  21\n",
            "Lazio          -  20\n",
            "Udinese        -  20\n",
            "Milan          -  20\n",
            "Roma           -  19\n",
            "Inter          -  15\n",
            "Juventus       -  13\n",
            "Sassuolo       -  12\n",
            "Torino         -  11\n",
            "Salernitana    -  10\n",
            "Monza          -  10\n",
            "Fiorentina     -  9\n",
            "Empoli         -  8\n",
            "Spezia         -  8\n",
            "Lecce          -  7\n",
            "Bologna        -  7\n",
            "Hellas Verona  -  5\n",
            "Cremonese      -  3\n",
            "Samdoria       -  3\n",
            "['Napoli', 'Atalanta', 'Lazio', 'Udinese', 'Milan', 'Roma']\n"
          ]
        }
      ]
    },
    {
      "cell_type": "markdown",
      "source": [
        "7. aggiornare la classifica con i risultati della decima giornata. Inserire la nuova classifica in una nuova lista chiamata **classifica10**"
      ],
      "metadata": {
        "id": "WHTPsWQuXI8P"
      }
    },
    {
      "cell_type": "code",
      "source": [
        "squadre10 = [\"Napoli\", \"Atalanta\", \"Milan\", \"Lazio\", \"Udinese\", \"Roma\", \"Inter\", \"Juventus\", \"Sassuolo\", \"Empoli\", \"Torino\", \"Salernitana\", \"Monza\", \"Fiorentina\", \"Spezia\", \"Lecce\", \"Bologna\", \"Hellas Verona\", \"Cremonese\", \"Samdoria\"]\n",
        "#metodo copy(): copia i dati in un'altra lista\n",
        "classifica10 = classifica09.copy()"
      ],
      "metadata": {
        "id": "IbellgF5XZDJ"
      },
      "execution_count": null,
      "outputs": []
    },
    {
      "cell_type": "code",
      "source": [
        "#esercizio che chiedeva la consegna\n",
        "for aumentopunti in range(len(squadre09)):\n",
        "  if squadre09[aumentopunti] in squadreV:\n",
        "    classifica10[aumentopunti] += 3\n",
        "  elif squadre09[aumentopunti] in squadreP:\n",
        "    classifica10[aumentopunti] += 0\n",
        "  else:\n",
        "    classifica10[aumentopunti] += 1\n",
        "print(squadre10)\n",
        "print(classifica10)"
      ],
      "metadata": {
        "colab": {
          "base_uri": "https://localhost:8080/"
        },
        "id": "rFYZmO43sdOS",
        "outputId": "b6b8a468-795a-42ca-fe4e-56606ba69a12"
      },
      "execution_count": null,
      "outputs": [
        {
          "output_type": "stream",
          "name": "stdout",
          "text": [
            "['Napoli', 'Atalanta', 'Milan', 'Lazio', 'Udinese', 'Roma', 'Inter', 'Juventus', 'Sassuolo', 'Empoli', 'Torino', 'Salernitana', 'Monza', 'Fiorentina', 'Spezia', 'Lecce', 'Bologna', 'Hellas Verona', 'Cremonese', 'Samdoria']\n",
            "[26, 24, 21, 21, 23, 20, 18, 16, 12, 11, 10, 10, 10, 11, 9, 8, 7, 6, 4, 4]\n"
          ]
        }
      ]
    },
    {
      "cell_type": "markdown",
      "source": [
        "8. visualizzare le squadre che hanno cambiato posizione in classifica, quelle cioè che **non** occupano lo stesso posto in classifica09 e classifica10"
      ],
      "metadata": {
        "id": "Zhqh9_C0XPum"
      }
    },
    {
      "cell_type": "code",
      "source": [
        "for h in range(len(classifica10)):\n",
        "  if squadre10[h] != squadre09[h]:\n",
        "    print(squadre10[h])"
      ],
      "metadata": {
        "id": "pcM4naDAYbC3",
        "colab": {
          "base_uri": "https://localhost:8080/"
        },
        "outputId": "ca1465ea-6557-4efc-9a35-05074bbffc8c"
      },
      "execution_count": null,
      "outputs": [
        {
          "output_type": "stream",
          "name": "stdout",
          "text": [
            "Milan\n",
            "Lazio\n",
            "Udinese\n",
            "Empoli\n",
            "Torino\n",
            "Salernitana\n",
            "Monza\n",
            "Fiorentina\n"
          ]
        }
      ]
    },
    {
      "cell_type": "markdown",
      "source": [
        "Caricare i dati relativi ai gol fatti e subiti dopo la decima giornata. Chiamare le strutture dati **golFatti** e **golSubiti**"
      ],
      "metadata": {
        "id": "haIAClbwYblb"
      }
    },
    {
      "cell_type": "code",
      "source": [
        "golFatti = [25, 16, 20, 21, 19, 12, 18, 13, 12, 9, 8, 12, 9, 7, 9, 8, 10, 9, 9, 5]\n",
        "golSubiti = [9, 6, 10, 5, 10, 9, 14, 7, 12, 11, 12, 16, 15, 11, 19, 11, 17, 19, 21, 17]\n",
        "squadreGolFattieSubiti = [\"Napoli\", \"Atalanta\", \"Milan\", \"Lazio\", \"Udinese\", \"Roma\", \"Inter\", \"Juventus\", \"Sassuolo\", \"Empoli\", \"Torino\", \"Salernitana\", \"Monza\", \"Fiorentina\", \"Spezia\", \"Lecce\", \"Bologna\", \"Hellas Verona\", \"Cremonese\", \"Samdoria\"]"
      ],
      "metadata": {
        "id": "rKPUTVvtYuL4"
      },
      "execution_count": null,
      "outputs": []
    },
    {
      "cell_type": "markdown",
      "source": [
        "9. visualizzare la squadra che ha fatto più gol"
      ],
      "metadata": {
        "id": "t8vN8HuGYunx"
      }
    },
    {
      "cell_type": "code",
      "source": [
        "print(squadreGolFattieSubiti[golFatti.index(max(golFatti))])"
      ],
      "metadata": {
        "id": "S6dsABWgYyKQ",
        "colab": {
          "base_uri": "https://localhost:8080/"
        },
        "outputId": "5fbca7af-e948-4396-f53f-dd98fad2be90"
      },
      "execution_count": null,
      "outputs": [
        {
          "output_type": "stream",
          "name": "stdout",
          "text": [
            "Napoli\n"
          ]
        }
      ]
    },
    {
      "cell_type": "markdown",
      "source": [
        "10. visualizzare la squadra che ha fatto meno gol"
      ],
      "metadata": {
        "id": "bRPgADnxYynX"
      }
    },
    {
      "cell_type": "code",
      "source": [
        "print(squadreGolFattieSubiti[golFatti.index(min(golFatti))])"
      ],
      "metadata": {
        "id": "qKCoZzOJY3Ix",
        "colab": {
          "base_uri": "https://localhost:8080/"
        },
        "outputId": "5c3cc232-44db-4167-a74a-efa5b594d628"
      },
      "execution_count": null,
      "outputs": [
        {
          "output_type": "stream",
          "name": "stdout",
          "text": [
            "Samdoria\n"
          ]
        }
      ]
    },
    {
      "cell_type": "markdown",
      "source": [
        "11. visualizzare il numero medio di gol fatti dalle squadre"
      ],
      "metadata": {
        "id": "75SjNLTaY3gx"
      }
    },
    {
      "cell_type": "code",
      "source": [
        "from statistics import mean\n",
        "print(mean(golFatti))"
      ],
      "metadata": {
        "id": "KgEqym2sY7L5",
        "colab": {
          "base_uri": "https://localhost:8080/"
        },
        "outputId": "d2467108-629e-4b91-fb90-1768eacbd376"
      },
      "execution_count": null,
      "outputs": [
        {
          "output_type": "stream",
          "name": "stdout",
          "text": [
            "12.55\n"
          ]
        }
      ]
    },
    {
      "cell_type": "markdown",
      "source": [
        "12 visualizzare i nomi delle squadre che hanno fatto più gol della media"
      ],
      "metadata": {
        "id": "m8e4n6PkY7gZ"
      }
    },
    {
      "cell_type": "code",
      "source": [
        "for indice in range(len(golFatti)):\n",
        "  if golFatti[indice] > mean(golFatti):\n",
        "    print(squadreGolFattieSubiti[indice])"
      ],
      "metadata": {
        "id": "WYVVzvseZR1C",
        "colab": {
          "base_uri": "https://localhost:8080/"
        },
        "outputId": "c848a185-1d65-4115-c02e-7a41bcfd7682"
      },
      "execution_count": null,
      "outputs": [
        {
          "output_type": "stream",
          "name": "stdout",
          "text": [
            "Napoli\n",
            "Atalanta\n",
            "Milan\n",
            "Lazio\n",
            "Udinese\n",
            "Inter\n",
            "Juventus\n"
          ]
        }
      ]
    },
    {
      "cell_type": "markdown",
      "source": [
        "13. calcolare la differenza reti delle varie squadre: caricare i risultati in una nuova lista chiamata **differenzaReti**"
      ],
      "metadata": {
        "id": "ybyMSXlyZSYI"
      }
    },
    {
      "cell_type": "code",
      "source": [
        "differenzaReti = [golFatti[j] - golSubiti[j] for j in range(len(golFatti))]\n",
        "print(differenzaReti)"
      ],
      "metadata": {
        "id": "wFuTrkm6Z9nI",
        "colab": {
          "base_uri": "https://localhost:8080/"
        },
        "outputId": "c5326c21-825d-4149-f6b0-fff9bbd18bb0"
      },
      "execution_count": null,
      "outputs": [
        {
          "output_type": "stream",
          "name": "stdout",
          "text": [
            "[16, 10, 10, 16, 9, 3, 4, 6, 0, -2, -4, -4, -6, -4, -10, -3, -7, -10, -12, -12]\n"
          ]
        }
      ]
    },
    {
      "cell_type": "markdown",
      "source": [
        "14. visualizzare i nomi delle squadre che hanno una differenza reti positiva"
      ],
      "metadata": {
        "id": "C-oNfGQoZ-d1"
      }
    },
    {
      "cell_type": "code",
      "source": [
        "for indice in range(len(golFatti)):\n",
        "  if differenzaReti[indice] >= 0:\n",
        "     print(squadreGolFattieSubiti[indice])"
      ],
      "metadata": {
        "id": "lddcG_oQaDKk",
        "colab": {
          "base_uri": "https://localhost:8080/"
        },
        "outputId": "d074d8ba-ff8d-41d4-9da8-7d501cd66cbd"
      },
      "execution_count": null,
      "outputs": [
        {
          "output_type": "stream",
          "name": "stdout",
          "text": [
            "Napoli\n",
            "Atalanta\n",
            "Milan\n",
            "Lazio\n",
            "Udinese\n",
            "Roma\n",
            "Inter\n",
            "Juventus\n",
            "Sassuolo\n"
          ]
        }
      ]
    },
    {
      "cell_type": "markdown",
      "source": [
        "15. visualizzare i nomi delle squadre che hanno subito più gol di quelli che hanno fatto"
      ],
      "metadata": {
        "id": "AY7CHxuHaD2x"
      }
    },
    {
      "cell_type": "code",
      "source": [
        "for g in range(len(golSubiti)):\n",
        "  if golSubiti[g] > golFatti[g]:\n",
        "    print(squadreGolFattieSubiti[g])"
      ],
      "metadata": {
        "id": "RqxyOuMiaJF4",
        "colab": {
          "base_uri": "https://localhost:8080/"
        },
        "outputId": "9b29a5b7-035f-4035-edc7-506832d6f62a"
      },
      "execution_count": null,
      "outputs": [
        {
          "output_type": "stream",
          "name": "stdout",
          "text": [
            "Empoli\n",
            "Torino\n",
            "Salernitana\n",
            "Monza\n",
            "Fiorentina\n",
            "Spezia\n",
            "Lecce\n",
            "Bologna\n",
            "Hellas Verona\n",
            "Cremonese\n",
            "Samdoria\n"
          ]
        }
      ]
    },
    {
      "cell_type": "markdown",
      "source": [
        "16. visualizzare le squadre che hanno fatto tanti gol quanti ne hanno subiti"
      ],
      "metadata": {
        "id": "xfKz1Q1DaJ6x"
      }
    },
    {
      "cell_type": "code",
      "source": [
        "for f in range(len(golFatti)):\n",
        "  if golFatti[f] == golSubiti[f]:\n",
        "    print(squadreGolFattieSubiti[f])"
      ],
      "metadata": {
        "id": "ZR3qBDmxad95",
        "colab": {
          "base_uri": "https://localhost:8080/"
        },
        "outputId": "a6cac6f9-7cd2-4c07-dbb7-7db9d580977a"
      },
      "execution_count": null,
      "outputs": [
        {
          "output_type": "stream",
          "name": "stdout",
          "text": [
            "Sassuolo\n"
          ]
        }
      ]
    },
    {
      "cell_type": "markdown",
      "source": [
        "17. calcolare la somma delle differenze reti di tutte le squadre"
      ],
      "metadata": {
        "id": "tjnIm62canB6"
      }
    },
    {
      "cell_type": "code",
      "source": [
        "print(sum(differenzaReti))"
      ],
      "metadata": {
        "id": "jc__1facatut",
        "colab": {
          "base_uri": "https://localhost:8080/"
        },
        "outputId": "d76d8142-c14b-4ad5-ccbf-0a53a6b68942"
      },
      "execution_count": null,
      "outputs": [
        {
          "output_type": "stream",
          "name": "stdout",
          "text": [
            "0\n"
          ]
        }
      ]
    },
    {
      "cell_type": "markdown",
      "source": [
        "18. visualizzare le squadre della classifica che, se il campionato finisse oggi, sarebbero retrocesse. Scrivere il codice in modo che si possa utilizzare in qualunque giornata del campionato."
      ],
      "metadata": {
        "id": "euh8fSkcaueh"
      }
    },
    {
      "cell_type": "code",
      "source": [
        "print(squadreGolFattieSubiti[-3:])"
      ],
      "metadata": {
        "id": "cv7kI0sgbMnz",
        "colab": {
          "base_uri": "https://localhost:8080/"
        },
        "outputId": "6a2f0e24-4076-432a-ed53-ed1a6f38d686"
      },
      "execution_count": null,
      "outputs": [
        {
          "output_type": "stream",
          "name": "stdout",
          "text": [
            "['Hellas Verona', 'Cremonese', 'Samdoria']\n"
          ]
        }
      ]
    }
  ]
}
