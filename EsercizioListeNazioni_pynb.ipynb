{
  "nbformat": 4,
  "nbformat_minor": 0,
  "metadata": {
    "colab": {
      "provenance": [],
      "collapsed_sections": [],
      "authorship_tag": "ABX9TyN6ND3FCmdHBQzlwlch35xr",
      "include_colab_link": true
    },
    "kernelspec": {
      "name": "python3",
      "display_name": "Python 3"
    },
    "language_info": {
      "name": "python"
    }
  },
  "cells": [
    {
      "cell_type": "markdown",
      "metadata": {
        "id": "view-in-github",
        "colab_type": "text"
      },
      "source": [
        "<a href=\"https://colab.research.google.com/github/Riccardolotorto/Python/blob/main/EsercizioListeNazioni_pynb.ipynb\" target=\"_parent\"><img src=\"https://colab.research.google.com/assets/colab-badge.svg\" alt=\"Open In Colab\"/></a>"
      ]
    },
    {
      "cell_type": "markdown",
      "source": [
        "1.inserire le popolazioni di 5 nazioni europee e le corrispondenti nazioni"
      ],
      "metadata": {
        "id": "vb5YnB39D4Ck"
      }
    },
    {
      "cell_type": "code",
      "execution_count": null,
      "metadata": {
        "id": "C8p6UWAPDyd6"
      },
      "outputs": [],
      "source": [
        "nazioni = [\"Inghilterra\", \"Francia\", \"Italia\", \"Spagna\", \"Portogallo\", \"Germania\"]\n",
        "popolazioni = [63136265, 64291280, 60480665, 46776338, 10199257, 83000000]"
      ]
    },
    {
      "cell_type": "markdown",
      "source": [
        "2. visualizzare la nazione con più abitanti"
      ],
      "metadata": {
        "id": "tRujjOm8HzaX"
      }
    },
    {
      "cell_type": "code",
      "source": [
        "print(nazioni[popolazioni.index(max(popolazioni))])"
      ],
      "metadata": {
        "colab": {
          "base_uri": "https://localhost:8080/"
        },
        "id": "hCIuwXATIPI1",
        "outputId": "4341974b-b715-47fa-feb5-c7375c189054"
      },
      "execution_count": null,
      "outputs": [
        {
          "output_type": "stream",
          "name": "stdout",
          "text": [
            "Germania\n"
          ]
        }
      ]
    },
    {
      "cell_type": "markdown",
      "source": [
        "3.visualizzare la nazione con meno abitanti"
      ],
      "metadata": {
        "id": "iQPheVNfIdQr"
      }
    },
    {
      "cell_type": "code",
      "source": [
        "print(nazioni[popolazioni.index(min(popolazioni))])"
      ],
      "metadata": {
        "colab": {
          "base_uri": "https://localhost:8080/"
        },
        "id": "07bCQ_HdIgdP",
        "outputId": "62bd30c6-dbfa-48e8-a542-56c6b79e94b6"
      },
      "execution_count": null,
      "outputs": [
        {
          "output_type": "stream",
          "name": "stdout",
          "text": [
            "Portogallo\n"
          ]
        }
      ]
    },
    {
      "cell_type": "markdown",
      "source": [
        "4. visualizzare le nazioni con una popolazione superiore alla media delle popolazioni"
      ],
      "metadata": {
        "id": "1-H2vPLVJReS"
      }
    },
    {
      "cell_type": "code",
      "source": [
        "from statistics import mean\n",
        "print(round(mean(popolazioni), 2))\n",
        "for indice in range(len(nazioni)):\n",
        "  if popolazioni[indice] > mean(popolazioni):\n",
        "    print(nazioni[indice])"
      ],
      "metadata": {
        "colab": {
          "base_uri": "https://localhost:8080/"
        },
        "id": "D7JLxWuDJhhU",
        "outputId": "e5b1c062-46c3-41d7-87ac-7807b550c7d9"
      },
      "execution_count": null,
      "outputs": [
        {
          "output_type": "stream",
          "name": "stdout",
          "text": [
            "54647300.83\n",
            "Inghilterra\n",
            "Francia\n",
            "Italia\n",
            "Germania\n"
          ]
        }
      ]
    },
    {
      "cell_type": "markdown",
      "source": [
        "5. aumentare tutti i valori di popolazioni di 1.000.000 e inserirli in un'altra lista"
      ],
      "metadata": {
        "id": "NYzoITmOLDKd"
      }
    },
    {
      "cell_type": "code",
      "source": [
        "popolazioniAumentate = [popolazioni[aumento] + 1000000 for aumento in range(len(popolazioni))]\n",
        "print(popolazioniAumentate)"
      ],
      "metadata": {
        "colab": {
          "base_uri": "https://localhost:8080/"
        },
        "id": "9FnHDjfJLTBF",
        "outputId": "43fa28e3-2fb3-4d1c-cad1-cd489694fbf0"
      },
      "execution_count": null,
      "outputs": [
        {
          "output_type": "stream",
          "name": "stdout",
          "text": [
            "[64136265, 65291280, 61480665, 47776338, 11199257, 84000000]\n"
          ]
        }
      ]
    },
    {
      "cell_type": "markdown",
      "source": [
        "6. mostra le prime tre nazioni"
      ],
      "metadata": {
        "id": "Vy21dK3eM_qc"
      }
    },
    {
      "cell_type": "code",
      "source": [
        "print(nazioni[:3])"
      ],
      "metadata": {
        "colab": {
          "base_uri": "https://localhost:8080/"
        },
        "id": "1cnZE1nVNEHE",
        "outputId": "0fe65736-6598-45f5-ed3c-6c3b1a93e318"
      },
      "execution_count": null,
      "outputs": [
        {
          "output_type": "stream",
          "name": "stdout",
          "text": [
            "['Inghilterra', 'Francia', 'Italia']\n"
          ]
        }
      ]
    },
    {
      "cell_type": "markdown",
      "source": [
        "7. visualizzare le nazioni con le corrispondenti popolazioni"
      ],
      "metadata": {
        "id": "DaqOHjjKNaEW"
      }
    },
    {
      "cell_type": "code",
      "source": [
        "for indice2 in range(len(nazioni)):\n",
        "  print(\"{:12}{:3}{:9}\".format(nazioni[indice2], \":\", popolazioni[indice2]))"
      ],
      "metadata": {
        "colab": {
          "base_uri": "https://localhost:8080/"
        },
        "id": "x4j1OP4aNfxK",
        "outputId": "ed70e331-8aab-4e1d-a036-424f9aa00541"
      },
      "execution_count": null,
      "outputs": [
        {
          "output_type": "stream",
          "name": "stdout",
          "text": [
            "Inghilterra :   63136265\n",
            "Francia     :   64291280\n",
            "Italia      :   60480665\n",
            "Spagna      :   46776338\n",
            "Portogallo  :   10199257\n",
            "Germania    :   83000000\n"
          ]
        }
      ]
    },
    {
      "cell_type": "markdown",
      "source": [
        "8. trovare le percentuali delle popolazioni rispetto alla popolazione totale mondiale e inserirle in un'altra lista"
      ],
      "metadata": {
        "id": "aXea5kVdkJXh"
      }
    },
    {
      "cell_type": "code",
      "source": [
        "popolazioneMondiale = 7753000000\n",
        "percentuali = [round((popolazioni[indice3] / popolazioneMondiale) * 100, 2) for indice3 in range(len(popolazioni))]\n",
        "print(percentuali)"
      ],
      "metadata": {
        "colab": {
          "base_uri": "https://localhost:8080/"
        },
        "id": "pBeUeuwDkTwi",
        "outputId": "f10474af-1a4c-41c5-972e-0c5999d39338"
      },
      "execution_count": 6,
      "outputs": [
        {
          "output_type": "stream",
          "name": "stdout",
          "text": [
            "[0.81, 0.83, 0.78, 0.6, 0.13, 1.07]\n"
          ]
        }
      ]
    },
    {
      "cell_type": "markdown",
      "source": [
        "#esercizio 2"
      ],
      "metadata": {
        "id": "hfpcLcpRnf0_"
      }
    },
    {
      "cell_type": "markdown",
      "source": [
        "1.inserire 20 numeri casuali compresi tra 10 e 30 in due liste diverse"
      ],
      "metadata": {
        "id": "RPp557x-niA3"
      }
    },
    {
      "cell_type": "code",
      "source": [
        "import random\n",
        "listaCasuale1 = [random.randint(10, 30) for num in range(20)]\n",
        "listaCasuale2 = [random.randint(10, 30) for num in range(20)]\n",
        "print(listaCasuale1)\n",
        "print(listaCasuale2)"
      ],
      "metadata": {
        "colab": {
          "base_uri": "https://localhost:8080/"
        },
        "id": "n_V0mwvHnsGr",
        "outputId": "8eb7796b-3b0f-422c-b64c-93f5075bb91a"
      },
      "execution_count": 9,
      "outputs": [
        {
          "output_type": "stream",
          "name": "stdout",
          "text": [
            "[10, 26, 13, 30, 10, 14, 19, 12, 17, 20, 12, 15, 15, 24, 12, 16, 28, 23, 27, 30]\n",
            "[25, 16, 16, 16, 20, 29, 19, 22, 17, 12, 10, 23, 21, 15, 15, 11, 10, 30, 30, 19]\n"
          ]
        }
      ]
    },
    {
      "cell_type": "markdown",
      "source": [
        "2. aggiungere 6 a tutti gli elementi della lista 1 e inserirli in un'altra lista"
      ],
      "metadata": {
        "id": "nX7DGcYXoE_N"
      }
    },
    {
      "cell_type": "code",
      "source": [
        "lista3 = [listaCasuale1[indice] + 6 for indice in range(len(listaCasuale1))]\n",
        "print(lista3)"
      ],
      "metadata": {
        "colab": {
          "base_uri": "https://localhost:8080/"
        },
        "id": "Y6RPS3RsoMYl",
        "outputId": "f4a13f3a-8464-4505-e830-5db70fb0d596"
      },
      "execution_count": 11,
      "outputs": [
        {
          "output_type": "stream",
          "name": "stdout",
          "text": [
            "[16, 32, 19, 36, 16, 20, 25, 18, 23, 26, 18, 21, 21, 30, 18, 22, 34, 29, 33, 36]\n"
          ]
        }
      ]
    },
    {
      "cell_type": "markdown",
      "source": [
        "3. inserire in un'altra lista i valori true se il numero della prima lista è maggiore del numero della seconda lista, al contrario inserire false "
      ],
      "metadata": {
        "id": "h7_dD--dqM_-"
      }
    },
    {
      "cell_type": "code",
      "source": [
        "listaBooleani = [listaCasuale1[indice4] > listaCasuale2[indice4] for indice4 in range(len(listaCasuale1))]\n",
        "print(listaCasuale1)\n",
        "print(listaCasuale2)\n",
        "print(listaBooleani)"
      ],
      "metadata": {
        "colab": {
          "base_uri": "https://localhost:8080/"
        },
        "id": "pV96O3rYqllm",
        "outputId": "15863814-5caa-40ff-b116-0d7deafb953e"
      },
      "execution_count": 12,
      "outputs": [
        {
          "output_type": "stream",
          "name": "stdout",
          "text": [
            "[10, 26, 13, 30, 10, 14, 19, 12, 17, 20, 12, 15, 15, 24, 12, 16, 28, 23, 27, 30]\n",
            "[25, 16, 16, 16, 20, 29, 19, 22, 17, 12, 10, 23, 21, 15, 15, 11, 10, 30, 30, 19]\n",
            "[False, True, False, True, False, False, False, False, False, True, True, False, False, True, False, True, True, False, False, True]\n"
          ]
        }
      ]
    },
    {
      "cell_type": "markdown",
      "source": [
        "4. trovare la somma della lista 1 e della lista 2. poi mostrare una stringa che dice \"somma1 è maggiore di somma2\" se la somma della prima lista è maggiore della somma della seconda lista e viceversa "
      ],
      "metadata": {
        "id": "Om1ByvhKrCeO"
      }
    },
    {
      "cell_type": "code",
      "source": [
        "print(sum(listaCasuale1))\n",
        "print(sum(listaCasuale2))\n",
        "if sum(listaCasuale1) > sum(listaCasuale2):\n",
        "  print(\"la somma della prima lista è maggiore della somma della seconda lista\")\n",
        "else:\n",
        "  print(\"la somma della seconda lista è maggiore della somma della prima lista\")"
      ],
      "metadata": {
        "colab": {
          "base_uri": "https://localhost:8080/"
        },
        "id": "jhz7jOfYrguV",
        "outputId": "92092c45-b067-41f4-edf6-dfaa06850996"
      },
      "execution_count": 13,
      "outputs": [
        {
          "output_type": "stream",
          "name": "stdout",
          "text": [
            "373\n",
            "376\n",
            "la somma della seconda lista è maggiore della somma della prima lista\n"
          ]
        }
      ]
    },
    {
      "cell_type": "markdown",
      "source": [
        "5. mostrare i valori della listacasuale 1 che sono compresi tra 15 e 20"
      ],
      "metadata": {
        "id": "54UeQoe1sJL7"
      }
    },
    {
      "cell_type": "code",
      "source": [
        "for indice5 in range(len(listaCasuale1)):\n",
        "  if listaCasuale1[indice5] >= 15 and listaCasuale1[indice5] <= 20:\n",
        "    print(listaCasuale1[indice5])"
      ],
      "metadata": {
        "colab": {
          "base_uri": "https://localhost:8080/"
        },
        "id": "nwTCRM4js6rq",
        "outputId": "353ede72-3be5-4c9c-9cbc-600b37cd19b9"
      },
      "execution_count": 18,
      "outputs": [
        {
          "output_type": "stream",
          "name": "stdout",
          "text": [
            "19\n",
            "17\n",
            "20\n",
            "15\n",
            "15\n",
            "16\n"
          ]
        }
      ]
    }
  ]
}