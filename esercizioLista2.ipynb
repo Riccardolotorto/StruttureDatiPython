{
  "nbformat": 4,
  "nbformat_minor": 0,
  "metadata": {
    "colab": {
      "provenance": [],
      "collapsed_sections": [],
      "authorship_tag": "ABX9TyNauSUiOeZ9C5ZDwEFBV1Xm",
      "include_colab_link": true
    },
    "kernelspec": {
      "name": "python3",
      "display_name": "Python 3"
    },
    "language_info": {
      "name": "python"
    }
  },
  "cells": [
    {
      "cell_type": "markdown",
      "metadata": {
        "id": "view-in-github",
        "colab_type": "text"
      },
      "source": [
        "<a href=\"https://colab.research.google.com/github/Riccardolotorto/Python/blob/main/esercizioLista2.ipynb\" target=\"_parent\"><img src=\"https://colab.research.google.com/assets/colab-badge.svg\" alt=\"Open In Colab\"/></a>"
      ]
    },
    {
      "cell_type": "markdown",
      "source": [
        "esercizio per la verifica delle liste"
      ],
      "metadata": {
        "id": "-Ma3ClMEiv_N"
      }
    },
    {
      "cell_type": "markdown",
      "source": [
        "inizializzare tre liste: una che è composta dalle squadre, una che è composta da casa o ospiti e l'altra che è composta da 1x2"
      ],
      "metadata": {
        "id": "jfWQG60TlUfi"
      }
    },
    {
      "cell_type": "code",
      "execution_count": null,
      "metadata": {
        "id": "-Y9aJdziinEz"
      },
      "outputs": [],
      "source": [
        "squadre = [\"Inter\", \"Milan\", \"Napoli\", \"Roma\", \"Juventus\"]\n",
        "fattorecampo = [\"Ospiti\", \"Casa\", \"Ospiti\", \"Casa\", \"Ospiti\"]\n",
        "esito = [\"Perso\", \"Vinto\", \"Vinto\", \"Vinto\", \"Vinto\"]\n",
        "scudetti = [19, 19, 2, 3, 36]"
      ]
    },
    {
      "cell_type": "markdown",
      "source": [
        "visualizzare l'elemento numero 3 della lista squadre\n",
        ",visualizzare l'elemento numero 1 della lista fattorecampo\n",
        ",visualizzare l'ultimo elemento della lista esito\n",
        ",visualizzare dal primo al 4 elemento della lista scudetti"
      ],
      "metadata": {
        "id": "2w_CJQD-nc3B"
      }
    },
    {
      "cell_type": "code",
      "source": [
        "print(squadre[2])\n",
        "print(fattorecampo[0])\n",
        "print(esito[-1])\n",
        "print(scudetti[:4])"
      ],
      "metadata": {
        "colab": {
          "base_uri": "https://localhost:8080/"
        },
        "id": "1WvCDsVmoEB9",
        "outputId": "30ad5d62-4e16-40e2-aa68-6b7670d8c558"
      },
      "execution_count": null,
      "outputs": [
        {
          "output_type": "stream",
          "name": "stdout",
          "text": [
            "Napoli\n",
            "Ospiti\n",
            "Vinto\n",
            "[19, 19, 2, 3]\n"
          ]
        }
      ]
    },
    {
      "cell_type": "markdown",
      "source": [
        "far inserire all'utente una squadra e fornire il fattorecampo, l'esito e gli scudetti corrispondenti"
      ],
      "metadata": {
        "id": "Lqh4I8tjpkqE"
      }
    },
    {
      "cell_type": "code",
      "source": [
        "squadrainserita = input(\"inserire la squadra scelta: \")\n",
        "print(fattorecampo[squadre.index(squadrainserita)])\n",
        "print(esito[squadre.index(squadrainserita)])\n",
        "print(scudetti[squadre.index(squadrainserita)])\n"
      ],
      "metadata": {
        "id": "1DbBbolgp4m9",
        "colab": {
          "base_uri": "https://localhost:8080/"
        },
        "outputId": "9eda5a2d-7e70-4d5d-81a3-0819cf946dbb"
      },
      "execution_count": null,
      "outputs": [
        {
          "output_type": "stream",
          "name": "stdout",
          "text": [
            "inserire la squadra scelta: Inter\n",
            "Ospiti\n",
            "Perso\n",
            "19\n"
          ]
        }
      ]
    },
    {
      "cell_type": "markdown",
      "source": [
        "mostrare la squadra con più scudetti"
      ],
      "metadata": {
        "id": "BnmOJADopOf4"
      }
    },
    {
      "cell_type": "code",
      "source": [
        "massimiScudetti = max(scudetti)\n",
        "posizioneMassimiScudetti = scudetti.index(massimiScudetti)\n",
        "print(squadre[posizioneMassimiScudetti])"
      ],
      "metadata": {
        "colab": {
          "base_uri": "https://localhost:8080/"
        },
        "id": "A8UYcLSypVFn",
        "outputId": "d52a8153-2a41-4d9c-fdac-5726246e7dd7"
      },
      "execution_count": null,
      "outputs": [
        {
          "output_type": "stream",
          "name": "stdout",
          "text": [
            "Juventus\n"
          ]
        }
      ]
    },
    {
      "cell_type": "markdown",
      "source": [
        "eliminare il valore massimo e minimo dalla lista scudetti"
      ],
      "metadata": {
        "id": "WDTeH1Kbp7cH"
      }
    },
    {
      "cell_type": "code",
      "source": [
        "scudetti.remove(min(scudetti))\n",
        "scudetti.remove(max(scudetti))\n",
        "print(scudetti)"
      ],
      "metadata": {
        "id": "tTQ8Lx0PsN0y",
        "colab": {
          "base_uri": "https://localhost:8080/"
        },
        "outputId": "e82ae230-9893-44e2-dd6e-a7b0f7e5877c"
      },
      "execution_count": null,
      "outputs": [
        {
          "output_type": "stream",
          "name": "stdout",
          "text": [
            "[19, 19, 3]\n"
          ]
        }
      ]
    },
    {
      "cell_type": "markdown",
      "source": [
        "calcolare la media degli elementi della lista scudetti"
      ],
      "metadata": {
        "id": "T9pGJFjqsOEe"
      }
    },
    {
      "cell_type": "code",
      "source": [
        "from statistics import mean\n",
        "print(mean(scudetti))"
      ],
      "metadata": {
        "id": "tbq1Xz-qsSfQ",
        "colab": {
          "base_uri": "https://localhost:8080/"
        },
        "outputId": "6958febb-43cd-4db3-e816-26953aca4a60"
      },
      "execution_count": null,
      "outputs": [
        {
          "output_type": "stream",
          "name": "stdout",
          "text": [
            "13.666666666666666\n"
          ]
        }
      ]
    },
    {
      "cell_type": "markdown",
      "source": [
        "aggiungere l'elemento Lazio, che giocherà in trasferta (ospiti), ha vinto la partita e ha vinto 2 scudetti"
      ],
      "metadata": {
        "id": "QstpXoDbsSrC"
      }
    },
    {
      "cell_type": "code",
      "source": [
        "squadre.append(\"Lazio\")\n",
        "fattorecampo.append(\"Ospiti\")\n",
        "esito.append(\"Vinto\")\n",
        "scudetti.append(2)\n",
        "print(squadre, fattorecampo, esito, scudetti)"
      ],
      "metadata": {
        "id": "gNZz0BVctJ2r",
        "colab": {
          "base_uri": "https://localhost:8080/"
        },
        "outputId": "7b99cb0d-11b5-4ccc-b865-32ff4d54b3aa"
      },
      "execution_count": null,
      "outputs": [
        {
          "output_type": "stream",
          "name": "stdout",
          "text": [
            "['Inter', 'Milan', 'Napoli', 'Roma', 'Juventus', 'Lazio'] ['Ospiti', 'Casa', 'Ospiti', 'Casa', 'Ospiti', 'Ospiti'] ['Perso', 'Vinto', 'Vinto', 'Vinto', 'Vinto', 'Vinto'] [19, 19, 3, 2]\n"
          ]
        }
      ]
    },
    {
      "cell_type": "markdown",
      "source": [
        "ordinare in ordine decrescente la lista scudetti"
      ],
      "metadata": {
        "id": "m_cvbujXtKtP"
      }
    },
    {
      "cell_type": "code",
      "source": [
        "scudetti.sort(reverse = True)\n",
        "print(scudetti)"
      ],
      "metadata": {
        "id": "7UnnDySItQAT",
        "colab": {
          "base_uri": "https://localhost:8080/"
        },
        "outputId": "e24c57da-2d3e-4001-a277-1e93447bd841"
      },
      "execution_count": null,
      "outputs": [
        {
          "output_type": "stream",
          "name": "stdout",
          "text": [
            "[19, 19, 3, 2, 2]\n"
          ]
        }
      ]
    },
    {
      "cell_type": "markdown",
      "source": [
        "visualizzare il numero di squadre"
      ],
      "metadata": {
        "id": "FY3almWLt4MH"
      }
    },
    {
      "cell_type": "code",
      "source": [
        "print(len(squadre))"
      ],
      "metadata": {
        "id": "FFtu1RY3t7hX",
        "colab": {
          "base_uri": "https://localhost:8080/"
        },
        "outputId": "df23e30b-eae7-47ce-afa0-833d58ef69ba"
      },
      "execution_count": null,
      "outputs": [
        {
          "output_type": "stream",
          "name": "stdout",
          "text": [
            "6\n"
          ]
        }
      ]
    },
    {
      "cell_type": "markdown",
      "source": [
        "trovare la posizione dell'elemento roma"
      ],
      "metadata": {
        "id": "2S38L83rt7x9"
      }
    },
    {
      "cell_type": "code",
      "source": [
        "squadre.index(\"Roma\")"
      ],
      "metadata": {
        "id": "qsYN8GN5uWep",
        "colab": {
          "base_uri": "https://localhost:8080/"
        },
        "outputId": "23247d2b-3c6d-40ad-f5b3-9d4af9b39f8c"
      },
      "execution_count": null,
      "outputs": [
        {
          "output_type": "execute_result",
          "data": {
            "text/plain": [
              "3"
            ]
          },
          "metadata": {},
          "execution_count": 47
        }
      ]
    },
    {
      "cell_type": "markdown",
      "source": [
        "eliminare i duplicati dalla lista scudetti"
      ],
      "metadata": {
        "id": "ApCy9wz_uW99"
      }
    },
    {
      "cell_type": "code",
      "source": [
        "scudetti = list(dict.fromkeys(scudetti))\n",
        "print(scudetti)"
      ],
      "metadata": {
        "id": "4AowmlbAulCs",
        "colab": {
          "base_uri": "https://localhost:8080/"
        },
        "outputId": "b9f6d330-4838-409a-91f4-397922b04b55"
      },
      "execution_count": null,
      "outputs": [
        {
          "output_type": "stream",
          "name": "stdout",
          "text": [
            "[19, 3, 2]\n"
          ]
        }
      ]
    },
    {
      "cell_type": "markdown",
      "source": [
        "eliminare le informazioni corrispondenti a milan"
      ],
      "metadata": {
        "id": "JBNrClKTulak"
      }
    },
    {
      "cell_type": "code",
      "source": [
        "posizioneMilan = squadre.index(\"Milan\")\n",
        "squadre.pop(posizioneMilan)\n",
        "fattorecampo.pop(posizioneMilan)\n",
        "esito.pop(posizioneMilan)\n",
        "scudetti.pop(posizioneMilan)\n",
        "print(squadre, fattorecampo, esito, scudetti)"
      ],
      "metadata": {
        "id": "vmrHaKgcuup6",
        "colab": {
          "base_uri": "https://localhost:8080/"
        },
        "outputId": "3b94eeaf-4d64-47dc-d4e1-e6e290c4cee0"
      },
      "execution_count": null,
      "outputs": [
        {
          "output_type": "stream",
          "name": "stdout",
          "text": [
            "['Inter', 'Napoli', 'Roma', 'Juventus', 'Lazio'] ['Ospiti', 'Ospiti', 'Casa', 'Ospiti', 'Ospiti'] ['Perso', 'Vinto', 'Vinto', 'Vinto', 'Vinto'] [19, 2]\n"
          ]
        }
      ]
    }
  ]
}