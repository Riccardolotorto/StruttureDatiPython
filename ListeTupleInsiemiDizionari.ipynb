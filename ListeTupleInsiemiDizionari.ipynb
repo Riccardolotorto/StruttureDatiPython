{
  "nbformat": 4,
  "nbformat_minor": 0,
  "metadata": {
    "colab": {
      "provenance": [],
      "collapsed_sections": [
        "Qg5VSPgZ477d"
      ],
      "authorship_tag": "ABX9TyMYRdD5ydRN8GftAcenks1d",
      "include_colab_link": true
    },
    "kernelspec": {
      "name": "python3",
      "display_name": "Python 3"
    },
    "language_info": {
      "name": "python"
    }
  },
  "cells": [
    {
      "cell_type": "markdown",
      "metadata": {
        "id": "view-in-github",
        "colab_type": "text"
      },
      "source": [
        "<a href=\"https://colab.research.google.com/github/Riccardolotorto/Python/blob/main/EserciziVerifica14_11_2022(ListeTupleInsiemiDizionari).ipynb\" target=\"_parent\"><img src=\"https://colab.research.google.com/assets/colab-badge.svg\" alt=\"Open In Colab\"/></a>"
      ]
    },
    {
      "cell_type": "markdown",
      "source": [
        "#esercizi dizionari"
      ],
      "metadata": {
        "id": "Qg5VSPgZ477d"
      }
    },
    {
      "cell_type": "markdown",
      "source": [
        "Creare una lista di dizionari con nome, età e nazionalità "
      ],
      "metadata": {
        "id": "Oi3IQnQxvY-p"
      }
    },
    {
      "cell_type": "code",
      "execution_count": 8,
      "metadata": {
        "colab": {
          "base_uri": "https://localhost:8080/"
        },
        "id": "tA9A55XUuZ1N",
        "outputId": "3aa012e3-3936-46de-8777-8298594c8769"
      },
      "outputs": [
        {
          "output_type": "stream",
          "name": "stdout",
          "text": [
            "[{'nome': 'riccardo', 'età': 15, 'nazionalità': 'italia'}, {'nome': 'lorenzo', 'età': 24, 'nazionalità': 'italia'}, {'nome': 'antoine', 'età': 10, 'nazionalità': 'francia'}, {'nome': 'charles', 'età': 50, 'nazionalità': 'inghilterra'}, {'nome': 'giada', 'età': 17, 'nazionalità': 'italia'}, {'nome': 'maria', 'età': 43, 'nazionalità': 'russia'}, {'nome': 'francois', 'età': 23, 'nazionalità': 'francia'}, {'nome': 'george', 'età': 12, 'nazionalità': 'romania'}]\n"
          ]
        }
      ],
      "source": [
        "persone = [\n",
        "    {\n",
        "        \"nome\":\"riccardo\",\n",
        "        \"età\":15,\n",
        "        \"nazionalità\":\"italia\"\n",
        "    },\n",
        "    {\n",
        "        \"nome\":\"lorenzo\",\n",
        "        \"età\":24,\n",
        "        \"nazionalità\":\"italia\"\n",
        "    },\n",
        "    {\n",
        "        \"nome\":\"antoine\",\n",
        "        \"età\":10,\n",
        "        \"nazionalità\":\"francia\"\n",
        "    },\n",
        "    {\n",
        "        \"nome\":\"charles\",\n",
        "        \"età\":50,\n",
        "        \"nazionalità\":\"inghilterra\"\n",
        "    },\n",
        "    {\n",
        "        \"nome\":\"giada\",\n",
        "        \"età\":17,\n",
        "        \"nazionalità\":\"italia\"\n",
        "    },\n",
        "    {\n",
        "        \"nome\":\"maria\",\n",
        "        \"età\":43,\n",
        "        \"nazionalità\":\"russia\"\n",
        "    },\n",
        "    {\n",
        "        \"nome\":\"francois\",\n",
        "        \"età\":23,\n",
        "        \"nazionalità\":\"francia\"\n",
        "    },\n",
        "    {\n",
        "        \"nome\":\"george\",\n",
        "        \"età\":12,\n",
        "        \"nazionalità\":\"romania\"\n",
        "    },\n",
        "]\n",
        "print(persone)"
      ]
    },
    {
      "cell_type": "markdown",
      "source": [
        "1. contare quante persone ci sono"
      ],
      "metadata": {
        "id": "GJ69RpKLwxJz"
      }
    },
    {
      "cell_type": "code",
      "source": [
        "len(persone)"
      ],
      "metadata": {
        "colab": {
          "base_uri": "https://localhost:8080/"
        },
        "id": "YTRUb3w3w0WG",
        "outputId": "f1a2e193-620a-40dc-856a-46e015379c90"
      },
      "execution_count": 3,
      "outputs": [
        {
          "output_type": "execute_result",
          "data": {
            "text/plain": [
              "8"
            ]
          },
          "metadata": {},
          "execution_count": 3
        }
      ]
    },
    {
      "cell_type": "markdown",
      "source": [
        "2. visualizzare il nome degli studenti stranieri"
      ],
      "metadata": {
        "id": "Y8LqQg3yw0rf"
      }
    },
    {
      "cell_type": "code",
      "source": [
        "for indice in range(len(persone)):\n",
        "  if persone[indice][\"nazionalità\"] != \"italia\":\n",
        "    print(persone[indice][\"nome\"])"
      ],
      "metadata": {
        "colab": {
          "base_uri": "https://localhost:8080/"
        },
        "id": "0WvupMBXw6QL",
        "outputId": "a4100eb9-8a3b-429c-a89b-edb375647fb4"
      },
      "execution_count": 4,
      "outputs": [
        {
          "output_type": "stream",
          "name": "stdout",
          "text": [
            "antoine\n",
            "charles\n",
            "maria\n",
            "francois\n",
            "george\n"
          ]
        }
      ]
    },
    {
      "cell_type": "markdown",
      "source": [
        "3. visualizzare il nome del più vecchio"
      ],
      "metadata": {
        "id": "NkjOZTQ1x8h8"
      }
    },
    {
      "cell_type": "code",
      "source": [
        "età = [persone[indice][\"età\"] for indice in range(len(persone))]\n",
        "massimo = max(età)\n",
        "for indice in range(len(persone)):\n",
        "  if massimo == persone[indice][\"età\"]:\n",
        "    print(persone[indice][\"nome\"])"
      ],
      "metadata": {
        "colab": {
          "base_uri": "https://localhost:8080/"
        },
        "id": "S5MBTrS5x_5X",
        "outputId": "e437491b-f119-4caf-e876-84e90098bcfa"
      },
      "execution_count": 5,
      "outputs": [
        {
          "output_type": "stream",
          "name": "stdout",
          "text": [
            "charles\n"
          ]
        }
      ]
    },
    {
      "cell_type": "markdown",
      "source": [
        "4. visualizzare tutte le informazioni di una persona dopo aver inserito il suo nome"
      ],
      "metadata": {
        "id": "Q7XdcVmE1Nwu"
      }
    },
    {
      "cell_type": "code",
      "source": [
        "nomeInserito = input(\"inserire un nome: \")\n",
        "for indice in range(len(persone)):\n",
        "  if nomeInserito == persone[indice][\"nome\"]:\n",
        "    print(persone[indice])"
      ],
      "metadata": {
        "colab": {
          "base_uri": "https://localhost:8080/"
        },
        "id": "fJR_QaGm1U_P",
        "outputId": "9a757bde-4589-4777-b264-4800c81234cb"
      },
      "execution_count": 10,
      "outputs": [
        {
          "output_type": "stream",
          "name": "stdout",
          "text": [
            "inserire un nome: maria\n",
            "{'nome': 'maria', 'età': 43, 'nazionalità': 'russia'}\n"
          ]
        }
      ]
    },
    {
      "cell_type": "markdown",
      "source": [
        "4. visualizzare il nome dei maggiorenni"
      ],
      "metadata": {
        "id": "pEDcVA_k3KYY"
      }
    },
    {
      "cell_type": "code",
      "source": [
        "for indice in range(len(persone)):\n",
        "  if persone[indice][\"età\"] >= 18:\n",
        "    print(persone[indice][\"nome\"])"
      ],
      "metadata": {
        "colab": {
          "base_uri": "https://localhost:8080/"
        },
        "id": "cVQ5UktG3N02",
        "outputId": "1c98f666-0745-412f-b0e0-6032b88f7d72"
      },
      "execution_count": 12,
      "outputs": [
        {
          "output_type": "stream",
          "name": "stdout",
          "text": [
            "lorenzo\n",
            "charles\n",
            "maria\n",
            "francois\n"
          ]
        }
      ]
    },
    {
      "cell_type": "markdown",
      "source": [
        "#esercizi insiemi"
      ],
      "metadata": {
        "id": "_sqymCTd5DTV"
      }
    },
    {
      "cell_type": "markdown",
      "source": [
        "1. creare tre insiemi di cui uno contiene gli studenti della 3E, il secondo contiene gli studenti interrogati in italiano e l'altro contiene gli studenti interrogati in inglese. \n",
        "italiano: finessi, poliseno, papes, bernasconi, leone. inglese: lotorto, geremicca, leone, poliseno, fontana."
      ],
      "metadata": {
        "id": "l9QIl5ul5FmO"
      }
    },
    {
      "cell_type": "code",
      "source": [
        "studenti3E = {\"avasiloae\", \"bernasconi\", \"cottone\", \"d'arienzo\", \"dipace\", \"ali\", \"finessi\", \"fonta\", \"gere\", \"leone\", \"lotorto\", \"milella\", \"muhammad\", \"neri\", \"papes\", \"poliseno\"}\n",
        "studentiItaliano = {\"finessi\", \"poliseno\", \"papes\", \"bernasconi\", \"leone\"}\n",
        "studentiInglese = {\"lotorto\", \"gere\", \"leone\", \"poliseno\", \"fonta\"}"
      ],
      "metadata": {
        "id": "8Xz0LD6W6BL-"
      },
      "execution_count": 21,
      "outputs": []
    },
    {
      "cell_type": "markdown",
      "source": [
        "2. visualizzare il nome degli studenti che sono interrogati almeno in una materia"
      ],
      "metadata": {
        "id": "e46qGhR3660h"
      }
    },
    {
      "cell_type": "code",
      "source": [
        "studentiInterrogati = studentiItaliano.union(studentiInglese)\n",
        "print(studentiInterrogati)"
      ],
      "metadata": {
        "colab": {
          "base_uri": "https://localhost:8080/"
        },
        "id": "ANPGg3KO7ADr",
        "outputId": "4f9c8284-1f36-49cc-c457-ef085d10aaeb"
      },
      "execution_count": 22,
      "outputs": [
        {
          "output_type": "stream",
          "name": "stdout",
          "text": [
            "{'lotorto', 'leone', 'gere', 'papes', 'finessi', 'fonta', 'poliseno', 'bernasconi'}\n"
          ]
        }
      ]
    },
    {
      "cell_type": "markdown",
      "source": [
        "3. visualizzare il nome degli studenti che non sono interrogati\n"
      ],
      "metadata": {
        "id": "p4_e8W557sE1"
      }
    },
    {
      "cell_type": "code",
      "source": [
        "studentiNonInterrogati = studenti3E.difference(studentiItaliano, studentiInglese)\n",
        "print(studentiNonInterrogati)"
      ],
      "metadata": {
        "colab": {
          "base_uri": "https://localhost:8080/"
        },
        "id": "-NP5s_pI7v4s",
        "outputId": "4371dff6-bfdf-4436-a503-79d5d48d3239"
      },
      "execution_count": 24,
      "outputs": [
        {
          "output_type": "stream",
          "name": "stdout",
          "text": [
            "{'neri', 'ali', 'cottone', \"d'arienzo\", 'milella', 'avasiloae', 'muhammad', 'dipace'}\n"
          ]
        }
      ]
    },
    {
      "cell_type": "markdown",
      "source": [
        "4. tutti gli interrogati in italiano sono anche interrogati in inglese?"
      ],
      "metadata": {
        "id": "ccK5DK0E8bmc"
      }
    },
    {
      "cell_type": "code",
      "source": [
        "print(studentiItaliano.issubset(studentiInglese))"
      ],
      "metadata": {
        "colab": {
          "base_uri": "https://localhost:8080/"
        },
        "id": "no0vvDOQ8oKL",
        "outputId": "8b85758f-a96f-4220-f646-e31cfbc58f62"
      },
      "execution_count": 25,
      "outputs": [
        {
          "output_type": "stream",
          "name": "stdout",
          "text": [
            "False\n"
          ]
        }
      ]
    },
    {
      "cell_type": "markdown",
      "source": [
        "5. visualizzare gli studenti che sono interrogati in entrambe le materie"
      ],
      "metadata": {
        "id": "y0kjQD9X8_kK"
      }
    },
    {
      "cell_type": "code",
      "source": [
        "studentiTutteMaterie = studentiItaliano.intersection(studentiInglese)\n",
        "print(studentiTutteMaterie)"
      ],
      "metadata": {
        "colab": {
          "base_uri": "https://localhost:8080/"
        },
        "id": "1b2kNX3D8-bL",
        "outputId": "bc25cfdc-9938-4035-e60f-cee1075bbbb4"
      },
      "execution_count": 26,
      "outputs": [
        {
          "output_type": "stream",
          "name": "stdout",
          "text": [
            "{'poliseno', 'leone'}\n"
          ]
        }
      ]
    }
  ]
}
