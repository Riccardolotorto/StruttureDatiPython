{
  "nbformat": 4,
  "nbformat_minor": 0,
  "metadata": {
    "colab": {
      "provenance": [],
      "collapsed_sections": [],
      "authorship_tag": "ABX9TyMs1oDxKJHeDyei47vRAYHc",
      "include_colab_link": true
    },
    "kernelspec": {
      "name": "python3",
      "display_name": "Python 3"
    },
    "language_info": {
      "name": "python"
    }
  },
  "cells": [
    {
      "cell_type": "markdown",
      "metadata": {
        "id": "view-in-github",
        "colab_type": "text"
      },
      "source": [
        "<a href=\"https://colab.research.google.com/github/Riccardolotorto/Python/blob/main/EserciziForListComprehension.ipynb\" target=\"_parent\"><img src=\"https://colab.research.google.com/assets/colab-badge.svg\" alt=\"Open In Colab\"/></a>"
      ]
    },
    {
      "cell_type": "markdown",
      "source": [
        "ESERCIZIO 1"
      ],
      "metadata": {
        "id": "bNqmbYhdGUSA"
      }
    },
    {
      "cell_type": "markdown",
      "source": [
        "inserire 10 numeri casuali compresi tra 10 e 30 in due liste (lista1, lista2)"
      ],
      "metadata": {
        "id": "mVujWN_qG_Yw"
      }
    },
    {
      "cell_type": "code",
      "execution_count": null,
      "metadata": {
        "colab": {
          "base_uri": "https://localhost:8080/"
        },
        "id": "54RoG825GK0r",
        "outputId": "64c5c99b-93a6-43e6-bbe4-c82d8d9670ff"
      },
      "outputs": [
        {
          "output_type": "stream",
          "name": "stdout",
          "text": [
            "[30, 24, 30, 10, 11, 16, 16, 27, 17, 26]\n",
            "[24, 15, 29, 22, 30, 21, 21, 28, 30, 30]\n"
          ]
        }
      ],
      "source": [
        "import random\n",
        "lista1 = [random.randint(10, 30) for casuale in range(10)]\n",
        "lista2 = [random.randint(10, 30) for casuale in range(10)]\n",
        "print(lista1)\n",
        "print(lista2)"
      ]
    },
    {
      "cell_type": "markdown",
      "source": [
        "fare la media delle due liste "
      ],
      "metadata": {
        "id": "zd0VHP2SIExJ"
      }
    },
    {
      "cell_type": "code",
      "source": [
        "from statistics import mean\n",
        "print(mean(lista1))\n",
        "print(mean(lista2))"
      ],
      "metadata": {
        "colab": {
          "base_uri": "https://localhost:8080/"
        },
        "id": "2M5JDs6kITjN",
        "outputId": "70ebca8d-790f-49b7-e9e9-b61dcfac44b6"
      },
      "execution_count": null,
      "outputs": [
        {
          "output_type": "stream",
          "name": "stdout",
          "text": [
            "20.7\n",
            "25\n"
          ]
        }
      ]
    },
    {
      "cell_type": "markdown",
      "source": [
        "somma totale delle due liste"
      ],
      "metadata": {
        "id": "ta423CjCKACR"
      }
    },
    {
      "cell_type": "code",
      "source": [
        "print(sum(lista1) + sum(lista2))"
      ],
      "metadata": {
        "colab": {
          "base_uri": "https://localhost:8080/"
        },
        "id": "tjAvUs3KKRPP",
        "outputId": "236841cf-b21b-4f18-89d0-d9cfc1c46cd9"
      },
      "execution_count": null,
      "outputs": [
        {
          "output_type": "stream",
          "name": "stdout",
          "text": [
            "457\n"
          ]
        }
      ]
    },
    {
      "cell_type": "markdown",
      "source": [
        "trovare i numeri pari (nella lista1) e inserirli in un'altra lista "
      ],
      "metadata": {
        "id": "tuvdrVzCLh-Y"
      }
    },
    {
      "cell_type": "code",
      "source": [
        "listaPari = []\n",
        "for numeri in lista1:\n",
        "  if numeri % 2 == 0:\n",
        "    listaPari.append(numeri)\n",
        "print(listaPari)"
      ],
      "metadata": {
        "colab": {
          "base_uri": "https://localhost:8080/"
        },
        "id": "MaBUEcMpLoLC",
        "outputId": "f1cb0e18-d9d2-4831-e8db-e838750d81ac"
      },
      "execution_count": null,
      "outputs": [
        {
          "output_type": "stream",
          "name": "stdout",
          "text": [
            "[30, 24, 30, 10, 16, 16, 26]\n"
          ]
        }
      ]
    },
    {
      "cell_type": "markdown",
      "source": [
        "fare la somma degli elementi delle due liste (posizione per posizione)"
      ],
      "metadata": {
        "id": "w_ob7-5AM2Gq"
      }
    },
    {
      "cell_type": "code",
      "source": [
        "listaSommaPosizioni = [lista1[indice] + lista2[indice] for indice in range(len(lista1))]\n",
        "print(listaSommaPosizioni)"
      ],
      "metadata": {
        "colab": {
          "base_uri": "https://localhost:8080/"
        },
        "id": "SYDpbK9oNdp8",
        "outputId": "a682045f-7b9d-4b61-d3a3-a7b9f011cd3e"
      },
      "execution_count": null,
      "outputs": [
        {
          "output_type": "stream",
          "name": "stdout",
          "text": [
            "[54, 39, 59, 32, 41, 37, 37, 55, 47, 56]\n"
          ]
        }
      ]
    },
    {
      "cell_type": "markdown",
      "source": [
        "Se il numero della lista 1 è maggiore del numero della seconda lista inserire nella terza lista il valore true(boolean)"
      ],
      "metadata": {
        "id": "c5M3ThWnQfKO"
      }
    },
    {
      "cell_type": "code",
      "source": [
        "print(lista1)\n",
        "print(lista2)\n",
        "listaBoolean = [lista1[x] > lista2[x] for x in range(len(lista1))]\n",
        "print(listaBoolean)"
      ],
      "metadata": {
        "colab": {
          "base_uri": "https://localhost:8080/"
        },
        "id": "XTkw6PzSQo9V",
        "outputId": "090b88de-1ec0-4641-88d2-99508af67bab"
      },
      "execution_count": null,
      "outputs": [
        {
          "output_type": "stream",
          "name": "stdout",
          "text": [
            "[30, 24, 30, 10, 11, 16, 16, 27, 17, 26]\n",
            "[24, 15, 29, 22, 30, 21, 21, 28, 30, 30]\n",
            "[True, True, True, False, False, False, False, False, False, False]\n"
          ]
        }
      ]
    },
    {
      "cell_type": "markdown",
      "source": [
        "trovare il max della lista1 e lista2 e min "
      ],
      "metadata": {
        "id": "pBsciOLASC3O"
      }
    },
    {
      "cell_type": "code",
      "source": [
        "print(\"max:\", max(lista1), \"min:\", min(lista1))\n",
        "print(\"max:\", max(lista2), \"min:\", min(lista2))"
      ],
      "metadata": {
        "colab": {
          "base_uri": "https://localhost:8080/"
        },
        "id": "NKmyF6h1Svxt",
        "outputId": "f0aae0be-f7c8-4c8c-ec8b-779059a77563"
      },
      "execution_count": null,
      "outputs": [
        {
          "output_type": "stream",
          "name": "stdout",
          "text": [
            "max: 30 min: 10\n",
            "max: 30 min: 15\n"
          ]
        }
      ]
    },
    {
      "cell_type": "markdown",
      "source": [
        "visualizzare i numeri della lista 1 che sono maggiori della media della lista 1"
      ],
      "metadata": {
        "id": "XfZ7Q3FzUJXq"
      }
    },
    {
      "cell_type": "code",
      "source": [
        "for numMedia in lista1:\n",
        "  if numMedia > mean(lista1):\n",
        "    print(numMedia)\n",
        "#metodo usando un'altra lista\n",
        "listaMedia = []\n",
        "for numMedia in lista1:\n",
        "  if numMedia > mean(lista1):\n",
        "    listaMedia.append(numMedia)\n",
        "print(listaMedia)"
      ],
      "metadata": {
        "colab": {
          "base_uri": "https://localhost:8080/"
        },
        "id": "b1BJO7V_UzWl",
        "outputId": "7538d5c9-816a-44e3-e993-ebfbc4e5ccfa"
      },
      "execution_count": null,
      "outputs": [
        {
          "output_type": "stream",
          "name": "stdout",
          "text": [
            "30\n",
            "24\n",
            "30\n",
            "27\n",
            "26\n",
            "[30, 24, 30, 27, 26]\n"
          ]
        }
      ]
    },
    {
      "cell_type": "markdown",
      "source": [
        "visualizzare i numeri della lista 2 che sono maggiori di 17 e metterli in un'altra lista"
      ],
      "metadata": {
        "id": "wJ1g1DyOXo8J"
      }
    },
    {
      "cell_type": "code",
      "source": [
        "lista17 = []\n",
        "for num17 in lista2:\n",
        "  if num17 > 17:\n",
        "    lista17.append(num17)\n",
        "print(lista17)"
      ],
      "metadata": {
        "colab": {
          "base_uri": "https://localhost:8080/"
        },
        "id": "T1P4soK8ZD2y",
        "outputId": "4e0b66d9-b63f-437f-b9d3-18faeb077e67"
      },
      "execution_count": null,
      "outputs": [
        {
          "output_type": "stream",
          "name": "stdout",
          "text": [
            "[24, 29, 22, 30, 21, 21, 28, 30, 30]\n"
          ]
        }
      ]
    }
  ]
}