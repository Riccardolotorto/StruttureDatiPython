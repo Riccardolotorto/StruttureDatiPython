{
  "nbformat": 4,
  "nbformat_minor": 0,
  "metadata": {
    "colab": {
      "provenance": [],
      "collapsed_sections": [],
      "authorship_tag": "ABX9TyPh4GUaoDVcyYDH9oTl3pyk",
      "include_colab_link": true
    },
    "kernelspec": {
      "name": "python3",
      "display_name": "Python 3"
    },
    "language_info": {
      "name": "python"
    }
  },
  "cells": [
    {
      "cell_type": "markdown",
      "metadata": {
        "id": "view-in-github",
        "colab_type": "text"
      },
      "source": [
        "<a href=\"https://colab.research.google.com/github/Riccardolotorto/Python/blob/main/VerificaListe3EinfFilaA.ipynb\" target=\"_parent\"><img src=\"https://colab.research.google.com/assets/colab-badge.svg\" alt=\"Open In Colab\"/></a>"
      ]
    },
    {
      "cell_type": "markdown",
      "source": [
        "1. caricaremento liste"
      ],
      "metadata": {
        "id": "NG6TTVgd5bBA"
      }
    },
    {
      "cell_type": "code",
      "execution_count": 1,
      "metadata": {
        "id": "hxWNsU1E5RZl"
      },
      "outputs": [],
      "source": [
        "h = [1, 2, 3, 4, 5, 6, 7, 8, 9, 10, 11, 12, 13, 14, 15, 16, 17, 18, 19, 20, 21, 22, 23, 24]\n",
        "T = [11, 11, 10, 9, 11, 12, 12, 12, 13, 14, 15, 17, 19, 21, 24, 24, 24, 22, 20, 18, 16, 14, 12, 11]\n",
        "P = [90, 90, 90, 70, 70, 30, 30, 10, 10, 0, 0, 0, 0, 0, 0, 0, 0, 0, 0, 5, 10, 15, 20, 25]\n",
        "#0,5"
      ]
    },
    {
      "cell_type": "code",
      "source": [
        "#correzione: non dovevo inizializzare la lista h"
      ],
      "metadata": {
        "id": "Xek-UjwB7_ND"
      },
      "execution_count": null,
      "outputs": []
    },
    {
      "cell_type": "markdown",
      "source": [
        "2. visualizzare la temperatura e la probabilità di precipitazioni alle ore 18"
      ],
      "metadata": {
        "id": "vkDer2Ap6f4Y"
      }
    },
    {
      "cell_type": "code",
      "source": [
        "orario = 18\n",
        "print(T[h.index(orario)])\n",
        "print(P[h.index(orario)])\n",
        "#0,25"
      ],
      "metadata": {
        "colab": {
          "base_uri": "https://localhost:8080/"
        },
        "id": "WWFwWJdA6mwp",
        "outputId": "6e4811a4-cdc4-4fdd-84f9-fdb809a544f8"
      },
      "execution_count": null,
      "outputs": [
        {
          "output_type": "stream",
          "name": "stdout",
          "text": [
            "22\n",
            "0\n"
          ]
        }
      ]
    },
    {
      "cell_type": "code",
      "source": [
        "#il mio metodo funziona, ma nel caso in cui i valori sono in ordine c'è un metodo più veloce\n",
        "print(T[17])\n",
        "print(P[17])"
      ],
      "metadata": {
        "id": "6-j8ci3g8jMa"
      },
      "execution_count": null,
      "outputs": []
    },
    {
      "cell_type": "markdown",
      "source": [
        "3. visualizzare la temperatura e la probabilità di precipitazioni dalle 10 alle 18 (estremi compresi)\n"
      ],
      "metadata": {
        "id": "QaMXs9_87Gyg"
      }
    },
    {
      "cell_type": "code",
      "source": [
        "print(h[9:18])\n",
        "print(T[h.index(10):h.index(19)])\n",
        "print(P[h.index(10):h.index(19)])\n",
        "#0,25"
      ],
      "metadata": {
        "colab": {
          "base_uri": "https://localhost:8080/"
        },
        "id": "N4uKmMW47P-q",
        "outputId": "0c8d6d52-5fe4-44d6-afa0-3368554d5f76"
      },
      "execution_count": null,
      "outputs": [
        {
          "output_type": "stream",
          "name": "stdout",
          "text": [
            "[10, 11, 12, 13, 14, 15, 16, 17, 18]\n",
            "[14, 15, 17, 19, 21, 24, 24, 24, 22]\n",
            "[0, 0, 0, 0, 0, 0, 0, 0, 0]\n"
          ]
        }
      ]
    },
    {
      "cell_type": "code",
      "source": [
        "#il mio metodo funziona, ma nel caso in cui i valori sono in ordine c'è un metodo più veloce\n",
        "print(T[9:18])\n",
        "print(P[9:18])"
      ],
      "metadata": {
        "id": "ZncLFFKM8pma"
      },
      "execution_count": null,
      "outputs": []
    },
    {
      "cell_type": "markdown",
      "source": [
        "4. visualizzare la temperatura e la probabilità di precipitazioni dalle 12 a fine giornata"
      ],
      "metadata": {
        "id": "jjd5Aiw58e-I"
      }
    },
    {
      "cell_type": "code",
      "source": [
        "print(h[11:])\n",
        "print(T[h.index(12):])\n",
        "print(P[h.index(12):])\n",
        "#0,25"
      ],
      "metadata": {
        "colab": {
          "base_uri": "https://localhost:8080/"
        },
        "id": "DDbrtfA48oNQ",
        "outputId": "3dc63fbf-ddad-4949-dcb7-eeb70be53fb3"
      },
      "execution_count": null,
      "outputs": [
        {
          "output_type": "stream",
          "name": "stdout",
          "text": [
            "[12, 13, 14, 15, 16, 17, 18, 19, 20, 21, 22, 23, 24]\n",
            "[17, 19, 21, 24, 24, 24, 22, 20, 18, 16, 14, 12, 11]\n",
            "[0, 0, 0, 0, 0, 0, 0, 0, 5, 10, 15, 20, 25]\n"
          ]
        }
      ]
    },
    {
      "cell_type": "code",
      "source": [
        "#il mio metodo funziona, ma nel caso in cui i valori sono in ordine c'è un metodo più veloce\n",
        "print(T[11:])\n",
        "print(P[11:])"
      ],
      "metadata": {
        "id": "jGQgFTpU9gUq"
      },
      "execution_count": null,
      "outputs": []
    },
    {
      "cell_type": "markdown",
      "source": [
        "5. visualizzare la temperatura e la probabilità di precipitazioni dall'inizio della giornata fino alle 14 comprese"
      ],
      "metadata": {
        "id": "WYpW7PGN8opR"
      }
    },
    {
      "cell_type": "code",
      "source": [
        "print(h[:14])\n",
        "print(T[:h.index(15)])\n",
        "print(P[:h.index(15)])\n",
        "#0,25"
      ],
      "metadata": {
        "colab": {
          "base_uri": "https://localhost:8080/"
        },
        "id": "7m1Z4pTr9N6o",
        "outputId": "fd335eab-b6f6-49ce-a12b-cc1104fc3b83"
      },
      "execution_count": null,
      "outputs": [
        {
          "output_type": "stream",
          "name": "stdout",
          "text": [
            "[1, 2, 3, 4, 5, 6, 7, 8, 9, 10, 11, 12, 13, 14]\n",
            "[11, 11, 10, 9, 11, 12, 12, 12, 13, 14, 15, 17, 19, 21]\n",
            "[90, 90, 90, 70, 70, 30, 30, 10, 10, 0, 0, 0, 0, 0]\n"
          ]
        }
      ]
    },
    {
      "cell_type": "code",
      "source": [
        "#il mio metodo funziona, ma nel caso in cui i valori sono in ordine c'è un metodo più veloce\n",
        "print(T[:14])\n",
        "print(P[:14])"
      ],
      "metadata": {
        "id": "QLn8694F9m6y"
      },
      "execution_count": null,
      "outputs": []
    },
    {
      "cell_type": "markdown",
      "source": [
        "6. visualizzare la temperatura ogni due ore a partire dalle 4 del mattino"
      ],
      "metadata": {
        "id": "qhSIUh2g9OLR"
      }
    },
    {
      "cell_type": "code",
      "source": [
        "print(h[3::2])\n",
        "print(T[h.index(4)::2])\n",
        "print(P[h.index(4)::2])\n",
        "#0,25"
      ],
      "metadata": {
        "colab": {
          "base_uri": "https://localhost:8080/"
        },
        "id": "2asN_jrD9W-Y",
        "outputId": "575d737e-05ef-480a-da50-d0842b8ed9db"
      },
      "execution_count": null,
      "outputs": [
        {
          "output_type": "stream",
          "name": "stdout",
          "text": [
            "[4, 6, 8, 10, 12, 14, 16, 18, 20, 22, 24]\n",
            "[9, 12, 12, 14, 17, 21, 24, 22, 18, 14, 11]\n",
            "[70, 30, 10, 0, 0, 0, 0, 0, 5, 15, 25]\n"
          ]
        }
      ]
    },
    {
      "cell_type": "code",
      "source": [
        "#il mio metodo funziona, ma nel caso in cui i valori sono in ordine c'è un metodo più veloce\n",
        "print(T[3::2])\n",
        "print(P[3::2])"
      ],
      "metadata": {
        "id": "9yPa3jc898Ei"
      },
      "execution_count": null,
      "outputs": []
    },
    {
      "cell_type": "markdown",
      "source": [
        "7. visualizzare il valore di temperatura più alta della giornata"
      ],
      "metadata": {
        "id": "hf5gP0sD9XLQ"
      }
    },
    {
      "cell_type": "code",
      "source": [
        "print(max(T))\n",
        "#0,75"
      ],
      "metadata": {
        "colab": {
          "base_uri": "https://localhost:8080/"
        },
        "id": "ZSee0RVL9dao",
        "outputId": "9cfbe48c-5034-4616-9d4e-715d6896fd35"
      },
      "execution_count": null,
      "outputs": [
        {
          "output_type": "stream",
          "name": "stdout",
          "text": [
            "24\n"
          ]
        }
      ]
    },
    {
      "cell_type": "markdown",
      "source": [
        "8. visualizzare la probabilità di precipitazione media della giornata"
      ],
      "metadata": {
        "id": "esYYyvyR9jd4"
      }
    },
    {
      "cell_type": "code",
      "source": [
        "from statistics import mean\n",
        "print(mean(P))\n",
        "#0,75"
      ],
      "metadata": {
        "colab": {
          "base_uri": "https://localhost:8080/"
        },
        "id": "EWfZUecs9rdI",
        "outputId": "333438d5-46eb-4120-e7fb-d088a7eae8cf"
      },
      "execution_count": null,
      "outputs": [
        {
          "output_type": "stream",
          "name": "stdout",
          "text": [
            "23.541666666666668\n"
          ]
        }
      ]
    },
    {
      "cell_type": "markdown",
      "source": [
        "9. visualizzare le ore in cui è stata rilevata la temperatura più alta"
      ],
      "metadata": {
        "id": "d1rlqcxT90dn"
      }
    },
    {
      "cell_type": "code",
      "source": [
        "temperaturaMax = max(T)\n",
        "posizioneTemperaturaMax = T.index(temperaturaMax)\n",
        "print(h[posizioneTemperaturaMax])\n",
        "#0"
      ],
      "metadata": {
        "colab": {
          "base_uri": "https://localhost:8080/"
        },
        "id": "izI_erbf-aag",
        "outputId": "36f20c53-de2d-42db-ec2e-29d4119285a2"
      },
      "execution_count": null,
      "outputs": [
        {
          "output_type": "stream",
          "name": "stdout",
          "text": [
            "15\n"
          ]
        }
      ]
    },
    {
      "cell_type": "code",
      "source": [
        "#metodo giusto senza usare la lista h, che non avrei dovuto inserire\n",
        "posizioneTemperaturaMax = T.index(max(T))\n",
        "print(posizioneTemperaturaMax + 1)"
      ],
      "metadata": {
        "id": "oWOggwbH-jgC"
      },
      "execution_count": null,
      "outputs": []
    },
    {
      "cell_type": "code",
      "source": [
        "#metodo giusto senza usare la lista h, che non avrei dovuto inserire (il più veloce e con meno codice)\n",
        "print(T.index(max(T)) + 1)\n"
      ],
      "metadata": {
        "id": "Yy1tpPK2AJLq",
        "colab": {
          "base_uri": "https://localhost:8080/"
        },
        "outputId": "dd639d52-31fe-43c0-a723-1f7aa8267bee"
      },
      "execution_count": 6,
      "outputs": [
        {
          "output_type": "stream",
          "name": "stdout",
          "text": [
            "15\n"
          ]
        }
      ]
    },
    {
      "cell_type": "code",
      "source": [
        "#metodo correto dell'esercizio dove vengono mostrare tutte le ore dove è rilevata la temperatura più elevata\n"
      ],
      "metadata": {
        "id": "vA9koTP9BEwr"
      },
      "execution_count": 10,
      "outputs": []
    },
    {
      "cell_type": "markdown",
      "source": [
        "10. modificare il dato relativo alla temperatura delle ore 16: non era 24 C ma 25 C\n"
      ],
      "metadata": {
        "id": "gqZ81HmE-914"
      }
    },
    {
      "cell_type": "code",
      "source": [
        "posizioneOre16 = h.index(16)\n",
        "P[posizioneOre16] = 25\n",
        "print(P)\n",
        "#0,25"
      ],
      "metadata": {
        "colab": {
          "base_uri": "https://localhost:8080/"
        },
        "id": "7VIYGZta_IkQ",
        "outputId": "4b9ea8b1-15ad-4c2c-c60d-c0cee1dd33fe"
      },
      "execution_count": null,
      "outputs": [
        {
          "output_type": "stream",
          "name": "stdout",
          "text": [
            "[90, 90, 90, 70, 70, 30, 30, 10, 10, 0, 0, 0, 0, 0, 0, 25, 0, 0, 0, 5, 10, 15, 20, 25]\n"
          ]
        }
      ]
    },
    {
      "cell_type": "code",
      "source": [
        "#metodo giusto e veloce\n",
        "T[15] = 25\n",
        "print(T)"
      ],
      "metadata": {
        "colab": {
          "base_uri": "https://localhost:8080/"
        },
        "id": "PiXykQHhA8Py",
        "outputId": "478ebb92-16c8-425b-ea42-b15e3db22f83"
      },
      "execution_count": null,
      "outputs": [
        {
          "output_type": "stream",
          "name": "stdout",
          "text": [
            "[11, 11, 10, 9, 11, 12, 12, 12, 13, 14, 15, 17, 19, 21, 24, 25, 24, 22, 20, 18, 16, 14, 12, 11]\n"
          ]
        }
      ]
    },
    {
      "cell_type": "markdown",
      "source": [
        "11. visualizzare temperature e precipitazioni a partire dalle 24 fino all'1"
      ],
      "metadata": {
        "id": "ld-ULMKhACTw"
      }
    },
    {
      "cell_type": "code",
      "source": [
        "print(h[:-13:-1])\n",
        "print(T[:-13:-1])\n",
        "print(P[:-13:-1])\n",
        "#0"
      ],
      "metadata": {
        "colab": {
          "base_uri": "https://localhost:8080/"
        },
        "id": "5Ub41b9oALxH",
        "outputId": "16730f34-0edb-4aa3-953b-b93bc2437799"
      },
      "execution_count": null,
      "outputs": [
        {
          "output_type": "stream",
          "name": "stdout",
          "text": [
            "[24, 23, 22, 21, 20, 19, 18, 17, 16, 15, 14, 13]\n",
            "[11, 12, 14, 16, 18, 20, 22, 24, 24, 24, 21, 19]\n",
            "[25, 20, 15, 10, 5, 0, 0, 0, 0, 0, 0, 0]\n"
          ]
        }
      ]
    },
    {
      "cell_type": "code",
      "source": [
        "#metodo giusto\n",
        "T.reverse()\n",
        "P.reverse()\n",
        "print(T)\n",
        "print(P)"
      ],
      "metadata": {
        "colab": {
          "base_uri": "https://localhost:8080/"
        },
        "id": "PFQALwWSB4vL",
        "outputId": "55873ce5-f983-4421-f460-935269032936"
      },
      "execution_count": null,
      "outputs": [
        {
          "output_type": "stream",
          "name": "stdout",
          "text": [
            "[11, 11, 10, 9, 11, 12, 12, 12, 13, 14, 15, 17, 19, 21, 24, 25, 24, 22, 20, 18, 16, 14, 12, 11]\n",
            "[90, 90, 90, 70, 70, 30, 30, 10, 10, 0, 0, 0, 0, 0, 0, 0, 0, 0, 0, 5, 10, 15, 20, 25]\n"
          ]
        }
      ]
    }
  ]
}